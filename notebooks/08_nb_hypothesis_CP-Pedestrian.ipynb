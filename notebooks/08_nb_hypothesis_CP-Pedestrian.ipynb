{
 "cells": [
  {
   "cell_type": "code",
   "execution_count": 1,
   "metadata": {},
   "outputs": [],
   "source": [
    "import pandas as pd\n",
    "from src.visualization.visualize import likert_plot, likert_plot_tab, group_comparison\n",
    "from src.data import load_full_data\n",
    "from src.exploration.explore import test_hypothesis, build_likelihood_ratio_test\n",
    "from pylab import rcParams\n",
    "rcParams['figure.figsize'] = 14, 5"
   ]
  },
  {
   "cell_type": "code",
   "execution_count": 2,
   "metadata": {},
   "outputs": [],
   "source": [
    "full_data_df = load_full_data()\n",
    "bike_data = {}\n",
    "bike_data[\"ms\"] = full_data_df[full_data_df[\"Experiment\"] == \"MS\"].dropna(axis=1, how=\"all\")\n",
    "bike_data[\"ms\"] = bike_data[\"ms\"][bike_data[\"ms\"][\"Kamera\"] == \"P\"]\n",
    "bike_data[\"cp\"] = full_data_df[full_data_df[\"Experiment\"] == \"CP\"].dropna(axis=1, how=\"all\")\n",
    "bike_data[\"cp\"] = bike_data[\"cp\"][bike_data[\"cp\"][\"Kamera\"] == \"P\"]\n",
    "bike_data[\"se\"] = full_data_df[full_data_df[\"Experiment\"] == \"SE\"].dropna(axis=1, how=\"all\")\n",
    "bike_data[\"se\"] = bike_data[\"se\"][bike_data[\"se\"][\"Kamera\"] == \"P\"]"
   ]
  },
  {
   "cell_type": "markdown",
   "metadata": {},
   "source": [
    "# 2. Auswertung CP\n",
    "Anmerkung zu Plots (von Tümer): test_hypothesis nutzt halt den Median. Der Plot ist etwas unpräzise, weil er nur die absoluten Werte (0,1,2,3) nimmt. Median von pandas nimmt aber, wenn man genau in der Mitte zwischen zwei Werten steht dann den Mittelwert aus den beiden. Deshalb gibt es in der Gruppe auch Werte wie 2.5. Das ist wichtig für das korrekte testen der Hypothesen. Wenn du jetzt die Balken vom Plot nimmst, fehlen halt die Zwischenwerte.\n",
    "Deswegen gelten eher die Werte sicher Gruppe1/2 (sicher = safe+almost safe)\n",
    "\n",
    "### a) Einflussfaktor \"Breite RVA\"\n",
    "Gruppe1: schmale RVA <br>\n",
    "Gruppe2: breite RVA"
   ]
  },
  {
   "cell_type": "code",
   "execution_count": 3,
   "metadata": {},
   "outputs": [
    {
     "name": "stdout",
     "output_type": "stream",
     "text": [
      "Ergebnisse für Gesamtgruppe\n"
     ]
    },
    {
     "data": {
      "text/plain": [
       "<Figure size 432x288 with 0 Axes>"
      ]
     },
     "metadata": {},
     "output_type": "display_data"
    },
    {
     "data": {
      "image/png": "[encoded data removed]",
      "text/plain": [
       "<Figure size 1008x360 with 2 Axes>"
      ]
     },
     "metadata": {
      "needs_background": "light"
     },
     "output_type": "display_data"
    },
    {
     "name": "stdout",
     "output_type": "stream",
     "text": [
      "          unsafe  almost_unsafe  almost_safe       safe\n",
      "group1  2.978530      21.023407    43.217154  32.780910\n",
      "group2  4.261445      25.768200    41.100849  28.869506\n",
      "Mittelwert von  schmal - 2.0580044421664105\n",
      "Mittelwert von  breit - 1.9457841628185395\n",
      "Bootstrap Ergebnis: 0.0    (0.0, 0.0)\n",
      "Unterschied im Mittelwert von schmal zu breit (in Prozent) 5.767354956025331\n",
      "Ist der Unterschied signifikant? True\n",
      "sicher Gruppe 1  72.34466655276496 sicher Gruppe2 65.83433099595234\n"
     ]
    }
   ],
   "source": [
    "df = bike_data[\"cp\"]\n",
    "df_w = df[(df[\"gender\"] == \"w\")]\n",
    "df_m = df[(df[\"gender\"] == \"m\")]\n",
    "df_u30 = df[df[\"ageGroup\"] <= 2]\n",
    "df_30_64 = df[(df[\"ageGroup\"] >= 3) | (df[\"ageGroup\"] <= 5)]\n",
    "df_ue64 = df[df[\"ageGroup\"] >= 6]\n",
    "df_Bs =df[df[\"transportRatings_bicycle\"] <= 1] # selten Fahrrad\n",
    "df_Br = df[(df[\"transportRatings_bicycle\"] == 2) | (df[\"transportRatings_bicycle\"] == 3)]  # regelmäßig Fahrrad\n",
    "df_Bo = df[df[\"transportRatings_bicycle\"] >= 4] # oft Fahrrad\n",
    "\n",
    "print ('Ergebnisse für Gesamtgruppe')\n",
    "group1 = df[(df[\"RVA-Breite\"] == 2)] [[\"rating\", \"sessionID\"]]\n",
    "group2 = df[(df[\"RVA-Breite\"] == 3.5)] [[\"rating\", \"sessionID\"]]\n",
    "test_hypothesis(group1, group2, \"RVA-Breite\", [\"schmal\", \"breit\"])\n",
    "group_comparison(group1,group2)"
   ]
  },
  {
   "cell_type": "markdown",
   "metadata": {},
   "source": [
    "### b) Einflussfaktor \"Breite Gehweg\"\n",
    "Gruppe1: schmal <br>\n",
    "Gruppe2: breit"
   ]
  },
  {
   "cell_type": "code",
   "execution_count": 4,
   "metadata": {},
   "outputs": [
    {
     "name": "stdout",
     "output_type": "stream",
     "text": [
      "Ergebnisse für Gesamtgruppe\n"
     ]
    },
    {
     "name": "stderr",
     "output_type": "stream",
     "text": [
      "c:\\users\\nb\\jupyter_projekte\\umfrage\\src\\visualization\\visualize.py:88: RuntimeWarning: invalid value encountered in true_divide\n",
      "  unsafe_bars = np.array([group1[group1 == 0].shape[0], group2[group2 == 0].shape[0]])/totals * 100\n",
      "c:\\users\\nb\\jupyter_projekte\\umfrage\\src\\visualization\\visualize.py:89: RuntimeWarning: invalid value encountered in true_divide\n",
      "  unsafe_bars = unsafe_bars + np.array([group1[group1 == 0.5].shape[0], group2[group2 == 0.5].shape[0]])/(2* totals) * 100\n",
      "c:\\users\\nb\\jupyter_projekte\\umfrage\\src\\visualization\\visualize.py:90: RuntimeWarning: invalid value encountered in true_divide\n",
      "  almost_unsafe_bars = np.array([group1[group1 == 1].shape[0], group2[group2 == 1].shape[0]])/totals * 100\n",
      "c:\\users\\nb\\jupyter_projekte\\umfrage\\src\\visualization\\visualize.py:91: RuntimeWarning: invalid value encountered in true_divide\n",
      "  almost_unsafe_bars = almost_unsafe_bars + np.array([group1[group1 == 0.5].shape[0], group2[group2 == 0.5].shape[0]])/(2* totals) * 100\n",
      "c:\\users\\nb\\jupyter_projekte\\umfrage\\src\\visualization\\visualize.py:92: RuntimeWarning: invalid value encountered in true_divide\n",
      "  almost_unsafe_bars = almost_unsafe_bars + np.array([group1[group1 == 1.5].shape[0], group2[group2 == 1.5].shape[0]])/(2* totals) * 100\n",
      "c:\\users\\nb\\jupyter_projekte\\umfrage\\src\\visualization\\visualize.py:93: RuntimeWarning: invalid value encountered in true_divide\n",
      "  almost_safe_bars = np.array([group1[group1 == 2].shape[0], group2[group2 == 2].shape[0]])/totals * 100\n",
      "c:\\users\\nb\\jupyter_projekte\\umfrage\\src\\visualization\\visualize.py:94: RuntimeWarning: invalid value encountered in true_divide\n",
      "  almost_safe_bars = almost_safe_bars + np.array([group1[group1 == 1.5].shape[0], group2[group2 == 1.5].shape[0]])/(2* totals) * 100\n",
      "c:\\users\\nb\\jupyter_projekte\\umfrage\\src\\visualization\\visualize.py:95: RuntimeWarning: invalid value encountered in true_divide\n",
      "  almost_safe_bars = almost_safe_bars + np.array([group1[group1 == 2.5].shape[0], group2[group2 == 2.5].shape[0]])/(2* totals) * 100\n",
      "c:\\users\\nb\\jupyter_projekte\\umfrage\\src\\visualization\\visualize.py:96: RuntimeWarning: invalid value encountered in true_divide\n",
      "  safe_bars = np.array([group1[group1 == 3].shape[0], group2[group2 == 3].shape[0]])/totals * 100\n",
      "c:\\users\\nb\\jupyter_projekte\\umfrage\\src\\visualization\\visualize.py:97: RuntimeWarning: invalid value encountered in true_divide\n",
      "  safe_bars = safe_bars + np.array([group1[group1 == 2.5].shape[0], group2[group2 == 2.5].shape[0]])/(2* totals) * 100# plot\n",
      "c:\\users\\nb\\jupyter_projekte\\umfrage\\src\\visualization\\visualize.py:101: RuntimeWarning: invalid value encountered in true_divide\n",
      "  buttom = totals/totals * 100\n"
     ]
    },
    {
     "data": {
      "text/plain": [
       "<Figure size 432x288 with 0 Axes>"
      ]
     },
     "metadata": {},
     "output_type": "display_data"
    },
    {
     "data": {
      "image/png": "[encoded data removed]",
      "text/plain": [
       "<Figure size 1008x360 with 2 Axes>"
      ]
     },
     "metadata": {
      "needs_background": "light"
     },
     "output_type": "display_data"
    },
    {
     "name": "stdout",
     "output_type": "stream",
     "text": [
      "          unsafe  almost_unsafe  almost_safe      safe\n",
      "group1  2.638016      22.260521    44.921332  30.18013\n",
      "group2       NaN            NaN          NaN       NaN\n",
      "Mittelwert von  schmal - 2.026435759159393\n",
      "Mittelwert von  breit - nan\n"
     ]
    },
    {
     "name": "stderr",
     "output_type": "stream",
     "text": [
      "C:\\Users\\NB\\Anaconda3\\lib\\site-packages\\numpy\\matrixlib\\defmatrix.py:447: RuntimeWarning: Mean of empty slice.\n",
      "  return N.ndarray.mean(self, axis, dtype, out, keepdims=True)._collapse(axis)\n",
      "C:\\Users\\NB\\Anaconda3\\lib\\site-packages\\numpy\\core\\_methods.py:154: RuntimeWarning: invalid value encountered in true_divide\n",
      "  ret, rcount, out=ret, casting='unsafe', subok=False)\n"
     ]
    },
    {
     "name": "stdout",
     "output_type": "stream",
     "text": [
      "Bootstrap Ergebnis: nan    (nan, nan)\n",
      "Unterschied im Mittelwert von schmal zu breit (in Prozent) nan\n",
      "Ist der Unterschied signifikant? False\n"
     ]
    },
    {
     "name": "stderr",
     "output_type": "stream",
     "text": [
      "C:\\Users\\NB\\Anaconda3\\lib\\site-packages\\bootstrapped\\bootstrap.py:67: RuntimeWarning: invalid value encountered in sign\n",
      "  return _np.sign(self.upper_bound) == _np.sign(self.lower_bound)\n"
     ]
    },
    {
     "name": "stdout",
     "output_type": "stream",
     "text": [
      "sicher Gruppe 1  74.34258075276588 sicher Gruppe2 0.0\n"
     ]
    }
   ],
   "source": [
    "df = bike_data[\"cp\"]\n",
    "df_w = df[(df[\"gender\"] == \"w\")]\n",
    "df_m = df[(df[\"gender\"] == \"m\")]\n",
    "df_u30 = df[df[\"ageGroup\"] <= 2]\n",
    "df_30_64 = df[(df[\"ageGroup\"] >= 3) | (df[\"ageGroup\"] <= 5)]\n",
    "df_ue64 = df[df[\"ageGroup\"] >= 6]\n",
    "df_Bs =df[df[\"transportRatings_bicycle\"] <= 1] # selten Fahrrad\n",
    "df_Br = df[(df[\"transportRatings_bicycle\"] == 2) | (df[\"transportRatings_bicycle\"] == 3)]  # regelmäßig Fahrrad\n",
    "df_Bo = df[df[\"transportRatings_bicycle\"] >= 4] # oft Fahrrad\n",
    "\n",
    "print ('Ergebnisse für Gesamtgruppe')\n",
    "group1 = df[(df[\"GW-Breite\"] == \"schmal\")] [[\"rating\", \"sessionID\"]]\n",
    "group2 = df[(df[\"GW-Breite\"] == \"breit\")] [[\"rating\", \"sessionID\"]]\n",
    "test_hypothesis(group1, group2, \"GW-Breite\", [\"schmal\", \"breit\"])\n",
    "group_comparison(group1,group2)"
   ]
  },
  {
   "cell_type": "markdown",
   "metadata": {},
   "source": [
    "#### b1.1) Einflussfaktor \"Breite Gehweg\" <br>schmale RVA\n",
    "Gruppe1: schmal <br>\n",
    "Gruppe2: breit"
   ]
  },
  {
   "cell_type": "code",
   "execution_count": 5,
   "metadata": {},
   "outputs": [
    {
     "name": "stdout",
     "output_type": "stream",
     "text": [
      "Ergebnisse für Gesamtgruppe\n"
     ]
    },
    {
     "name": "stderr",
     "output_type": "stream",
     "text": [
      "c:\\users\\nb\\jupyter_projekte\\umfrage\\src\\visualization\\visualize.py:88: RuntimeWarning: invalid value encountered in true_divide\n",
      "  unsafe_bars = np.array([group1[group1 == 0].shape[0], group2[group2 == 0].shape[0]])/totals * 100\n",
      "c:\\users\\nb\\jupyter_projekte\\umfrage\\src\\visualization\\visualize.py:89: RuntimeWarning: invalid value encountered in true_divide\n",
      "  unsafe_bars = unsafe_bars + np.array([group1[group1 == 0.5].shape[0], group2[group2 == 0.5].shape[0]])/(2* totals) * 100\n",
      "c:\\users\\nb\\jupyter_projekte\\umfrage\\src\\visualization\\visualize.py:90: RuntimeWarning: invalid value encountered in true_divide\n",
      "  almost_unsafe_bars = np.array([group1[group1 == 1].shape[0], group2[group2 == 1].shape[0]])/totals * 100\n",
      "c:\\users\\nb\\jupyter_projekte\\umfrage\\src\\visualization\\visualize.py:91: RuntimeWarning: invalid value encountered in true_divide\n",
      "  almost_unsafe_bars = almost_unsafe_bars + np.array([group1[group1 == 0.5].shape[0], group2[group2 == 0.5].shape[0]])/(2* totals) * 100\n",
      "c:\\users\\nb\\jupyter_projekte\\umfrage\\src\\visualization\\visualize.py:92: RuntimeWarning: invalid value encountered in true_divide\n",
      "  almost_unsafe_bars = almost_unsafe_bars + np.array([group1[group1 == 1.5].shape[0], group2[group2 == 1.5].shape[0]])/(2* totals) * 100\n",
      "c:\\users\\nb\\jupyter_projekte\\umfrage\\src\\visualization\\visualize.py:93: RuntimeWarning: invalid value encountered in true_divide\n",
      "  almost_safe_bars = np.array([group1[group1 == 2].shape[0], group2[group2 == 2].shape[0]])/totals * 100\n",
      "c:\\users\\nb\\jupyter_projekte\\umfrage\\src\\visualization\\visualize.py:94: RuntimeWarning: invalid value encountered in true_divide\n",
      "  almost_safe_bars = almost_safe_bars + np.array([group1[group1 == 1.5].shape[0], group2[group2 == 1.5].shape[0]])/(2* totals) * 100\n",
      "c:\\users\\nb\\jupyter_projekte\\umfrage\\src\\visualization\\visualize.py:95: RuntimeWarning: invalid value encountered in true_divide\n",
      "  almost_safe_bars = almost_safe_bars + np.array([group1[group1 == 2.5].shape[0], group2[group2 == 2.5].shape[0]])/(2* totals) * 100\n",
      "c:\\users\\nb\\jupyter_projekte\\umfrage\\src\\visualization\\visualize.py:96: RuntimeWarning: invalid value encountered in true_divide\n",
      "  safe_bars = np.array([group1[group1 == 3].shape[0], group2[group2 == 3].shape[0]])/totals * 100\n",
      "c:\\users\\nb\\jupyter_projekte\\umfrage\\src\\visualization\\visualize.py:97: RuntimeWarning: invalid value encountered in true_divide\n",
      "  safe_bars = safe_bars + np.array([group1[group1 == 2.5].shape[0], group2[group2 == 2.5].shape[0]])/(2* totals) * 100# plot\n",
      "c:\\users\\nb\\jupyter_projekte\\umfrage\\src\\visualization\\visualize.py:101: RuntimeWarning: invalid value encountered in true_divide\n",
      "  buttom = totals/totals * 100\n"
     ]
    },
    {
     "data": {
      "text/plain": [
       "<Figure size 432x288 with 0 Axes>"
      ]
     },
     "metadata": {},
     "output_type": "display_data"
    },
    {
     "data": {
      "image/png": "[encoded data removed]",
      "text/plain": [
       "<Figure size 1008x360 with 2 Axes>"
      ]
     },
     "metadata": {
      "needs_background": "light"
     },
     "output_type": "display_data"
    },
    {
     "name": "stdout",
     "output_type": "stream",
     "text": [
      "         unsafe  almost_unsafe  almost_safe      safe\n",
      "group1  2.97853      21.023407    43.217154  32.78091\n",
      "group2      NaN            NaN          NaN       NaN\n",
      "Mittelwert von  schmal - 2.0580044421664105\n",
      "Mittelwert von  breit - nan\n"
     ]
    },
    {
     "name": "stderr",
     "output_type": "stream",
     "text": [
      "C:\\Users\\NB\\Anaconda3\\lib\\site-packages\\numpy\\matrixlib\\defmatrix.py:447: RuntimeWarning: Mean of empty slice.\n",
      "  return N.ndarray.mean(self, axis, dtype, out, keepdims=True)._collapse(axis)\n",
      "C:\\Users\\NB\\Anaconda3\\lib\\site-packages\\numpy\\core\\_methods.py:154: RuntimeWarning: invalid value encountered in true_divide\n",
      "  ret, rcount, out=ret, casting='unsafe', subok=False)\n"
     ]
    },
    {
     "name": "stdout",
     "output_type": "stream",
     "text": [
      "Bootstrap Ergebnis: nan    (nan, nan)\n",
      "Unterschied im Mittelwert von schmal zu breit (in Prozent) nan\n",
      "Ist der Unterschied signifikant? False\n"
     ]
    },
    {
     "name": "stderr",
     "output_type": "stream",
     "text": [
      "C:\\Users\\NB\\Anaconda3\\lib\\site-packages\\bootstrapped\\bootstrap.py:67: RuntimeWarning: invalid value encountered in sign\n",
      "  return _np.sign(self.upper_bound) == _np.sign(self.lower_bound)\n"
     ]
    },
    {
     "name": "stdout",
     "output_type": "stream",
     "text": [
      "sicher Gruppe 1  72.34466655276496 sicher Gruppe2 0.0\n"
     ]
    }
   ],
   "source": [
    "df = bike_data[\"cp\"]\n",
    "df = df[(df[\"RVA-Breite\"] == 2)]\n",
    "df_w = df[(df[\"gender\"] == \"w\")]\n",
    "df_m = df[(df[\"gender\"] == \"m\")]\n",
    "df_u30 = df[df[\"ageGroup\"] <= 2]\n",
    "df_30_64 = df[(df[\"ageGroup\"] >= 3) | (df[\"ageGroup\"] <= 5)]\n",
    "df_ue64 = df[df[\"ageGroup\"] >= 6]\n",
    "df_Bs =df[df[\"transportRatings_bicycle\"] <= 1] # selten Fahrrad\n",
    "df_Br = df[(df[\"transportRatings_bicycle\"] == 2) | (df[\"transportRatings_bicycle\"] == 3)]  # regelmäßig Fahrrad\n",
    "df_Bo = df[df[\"transportRatings_bicycle\"] >= 4] # oft Fahrrad\n",
    "\n",
    "print ('Ergebnisse für Gesamtgruppe')\n",
    "group1 = df[(df[\"GW-Breite\"] == \"schmal\")] [[\"rating\", \"sessionID\"]]\n",
    "group2 = df[(df[\"GW-Breite\"] == \"breit\")] [[\"rating\", \"sessionID\"]]\n",
    "test_hypothesis(group1, group2, \"GW-Breite\", [\"schmal\", \"breit\"])\n",
    "group_comparison(group1,group2)"
   ]
  },
  {
   "cell_type": "markdown",
   "metadata": {},
   "source": [
    "#### b1.2) Einflussfaktor \"Breite Gehweg\" <br>breite RVA\n",
    "Gruppe1: schmal <br>\n",
    "Gruppe2: breit"
   ]
  },
  {
   "cell_type": "code",
   "execution_count": 6,
   "metadata": {},
   "outputs": [
    {
     "name": "stdout",
     "output_type": "stream",
     "text": [
      "Ergebnisse für Gesamtgruppe\n"
     ]
    },
    {
     "name": "stderr",
     "output_type": "stream",
     "text": [
      "c:\\users\\nb\\jupyter_projekte\\umfrage\\src\\visualization\\visualize.py:88: RuntimeWarning: invalid value encountered in true_divide\n",
      "  unsafe_bars = np.array([group1[group1 == 0].shape[0], group2[group2 == 0].shape[0]])/totals * 100\n",
      "c:\\users\\nb\\jupyter_projekte\\umfrage\\src\\visualization\\visualize.py:89: RuntimeWarning: invalid value encountered in true_divide\n",
      "  unsafe_bars = unsafe_bars + np.array([group1[group1 == 0.5].shape[0], group2[group2 == 0.5].shape[0]])/(2* totals) * 100\n",
      "c:\\users\\nb\\jupyter_projekte\\umfrage\\src\\visualization\\visualize.py:90: RuntimeWarning: invalid value encountered in true_divide\n",
      "  almost_unsafe_bars = np.array([group1[group1 == 1].shape[0], group2[group2 == 1].shape[0]])/totals * 100\n",
      "c:\\users\\nb\\jupyter_projekte\\umfrage\\src\\visualization\\visualize.py:91: RuntimeWarning: invalid value encountered in true_divide\n",
      "  almost_unsafe_bars = almost_unsafe_bars + np.array([group1[group1 == 0.5].shape[0], group2[group2 == 0.5].shape[0]])/(2* totals) * 100\n",
      "c:\\users\\nb\\jupyter_projekte\\umfrage\\src\\visualization\\visualize.py:92: RuntimeWarning: invalid value encountered in true_divide\n",
      "  almost_unsafe_bars = almost_unsafe_bars + np.array([group1[group1 == 1.5].shape[0], group2[group2 == 1.5].shape[0]])/(2* totals) * 100\n",
      "c:\\users\\nb\\jupyter_projekte\\umfrage\\src\\visualization\\visualize.py:93: RuntimeWarning: invalid value encountered in true_divide\n",
      "  almost_safe_bars = np.array([group1[group1 == 2].shape[0], group2[group2 == 2].shape[0]])/totals * 100\n",
      "c:\\users\\nb\\jupyter_projekte\\umfrage\\src\\visualization\\visualize.py:94: RuntimeWarning: invalid value encountered in true_divide\n",
      "  almost_safe_bars = almost_safe_bars + np.array([group1[group1 == 1.5].shape[0], group2[group2 == 1.5].shape[0]])/(2* totals) * 100\n",
      "c:\\users\\nb\\jupyter_projekte\\umfrage\\src\\visualization\\visualize.py:95: RuntimeWarning: invalid value encountered in true_divide\n",
      "  almost_safe_bars = almost_safe_bars + np.array([group1[group1 == 2.5].shape[0], group2[group2 == 2.5].shape[0]])/(2* totals) * 100\n",
      "c:\\users\\nb\\jupyter_projekte\\umfrage\\src\\visualization\\visualize.py:96: RuntimeWarning: invalid value encountered in true_divide\n",
      "  safe_bars = np.array([group1[group1 == 3].shape[0], group2[group2 == 3].shape[0]])/totals * 100\n",
      "c:\\users\\nb\\jupyter_projekte\\umfrage\\src\\visualization\\visualize.py:97: RuntimeWarning: invalid value encountered in true_divide\n",
      "  safe_bars = safe_bars + np.array([group1[group1 == 2.5].shape[0], group2[group2 == 2.5].shape[0]])/(2* totals) * 100# plot\n",
      "c:\\users\\nb\\jupyter_projekte\\umfrage\\src\\visualization\\visualize.py:101: RuntimeWarning: invalid value encountered in true_divide\n",
      "  buttom = totals/totals * 100\n"
     ]
    },
    {
     "data": {
      "text/plain": [
       "<Figure size 432x288 with 0 Axes>"
      ]
     },
     "metadata": {},
     "output_type": "display_data"
    },
    {
     "data": {
      "image/png": "[encoded data removed]",
      "text/plain": [
       "<Figure size 1008x360 with 2 Axes>"
      ]
     },
     "metadata": {
      "needs_background": "light"
     },
     "output_type": "display_data"
    },
    {
     "name": "stdout",
     "output_type": "stream",
     "text": [
      "          unsafe  almost_unsafe  almost_safe       safe\n",
      "group1  4.261445        25.7682    41.100849  28.869506\n",
      "group2       NaN            NaN          NaN        NaN\n",
      "Mittelwert von  schmal - 1.9457841628185395\n",
      "Mittelwert von  breit - nan\n"
     ]
    },
    {
     "name": "stderr",
     "output_type": "stream",
     "text": [
      "C:\\Users\\NB\\Anaconda3\\lib\\site-packages\\numpy\\matrixlib\\defmatrix.py:447: RuntimeWarning: Mean of empty slice.\n",
      "  return N.ndarray.mean(self, axis, dtype, out, keepdims=True)._collapse(axis)\n",
      "C:\\Users\\NB\\Anaconda3\\lib\\site-packages\\numpy\\core\\_methods.py:154: RuntimeWarning: invalid value encountered in true_divide\n",
      "  ret, rcount, out=ret, casting='unsafe', subok=False)\n"
     ]
    },
    {
     "name": "stdout",
     "output_type": "stream",
     "text": [
      "Bootstrap Ergebnis: nan    (nan, nan)\n",
      "Unterschied im Mittelwert von schmal zu breit (in Prozent) nan\n",
      "Ist der Unterschied signifikant? False\n",
      "sicher Gruppe 1  65.83433099595234 sicher Gruppe2 0.0\n"
     ]
    },
    {
     "name": "stderr",
     "output_type": "stream",
     "text": [
      "C:\\Users\\NB\\Anaconda3\\lib\\site-packages\\bootstrapped\\bootstrap.py:67: RuntimeWarning: invalid value encountered in sign\n",
      "  return _np.sign(self.upper_bound) == _np.sign(self.lower_bound)\n"
     ]
    }
   ],
   "source": [
    "df = bike_data[\"cp\"]\n",
    "df = df[(df[\"RVA-Breite\"] == 3.5)]\n",
    "df_w = df[(df[\"gender\"] == \"w\")]\n",
    "df_m = df[(df[\"gender\"] == \"m\")]\n",
    "df_u30 = df[df[\"ageGroup\"] <= 2]\n",
    "df_30_64 = df[(df[\"ageGroup\"] >= 3) | (df[\"ageGroup\"] <= 5)]\n",
    "df_ue64 = df[df[\"ageGroup\"] >= 6]\n",
    "df_Bs =df[df[\"transportRatings_bicycle\"] <= 1] # selten Fahrrad\n",
    "df_Br = df[(df[\"transportRatings_bicycle\"] == 2) | (df[\"transportRatings_bicycle\"] == 3)]  # regelmäßig Fahrrad\n",
    "df_Bo = df[df[\"transportRatings_bicycle\"] >= 4] # oft Fahrrad\n",
    "\n",
    "print ('Ergebnisse für Gesamtgruppe')\n",
    "group1 = df[(df[\"GW-Breite\"] == \"schmal\")] [[\"rating\", \"sessionID\"]]\n",
    "group2 = df[(df[\"GW-Breite\"] == \"breit\")] [[\"rating\", \"sessionID\"]]\n",
    "test_hypothesis(group1, group2, \"GW-Breite\", [\"schmal\", \"breit\"])\n",
    "group_comparison(group1,group2)"
   ]
  },
  {
   "cell_type": "markdown",
   "metadata": {},
   "source": [
    "#### b2) Einflussfaktor  \"Breite Gehweg\" <br> nur mit Auslage \n",
    "Gruppe1: schmaler Gehweg <br>\n",
    "Gruppe2: breiter Gehweg"
   ]
  },
  {
   "cell_type": "code",
   "execution_count": 7,
   "metadata": {},
   "outputs": [
    {
     "name": "stdout",
     "output_type": "stream",
     "text": [
      "Ergebnisse für Gesamtgruppe\n"
     ]
    },
    {
     "name": "stderr",
     "output_type": "stream",
     "text": [
      "c:\\users\\nb\\jupyter_projekte\\umfrage\\src\\visualization\\visualize.py:88: RuntimeWarning: invalid value encountered in true_divide\n",
      "  unsafe_bars = np.array([group1[group1 == 0].shape[0], group2[group2 == 0].shape[0]])/totals * 100\n",
      "c:\\users\\nb\\jupyter_projekte\\umfrage\\src\\visualization\\visualize.py:89: RuntimeWarning: invalid value encountered in true_divide\n",
      "  unsafe_bars = unsafe_bars + np.array([group1[group1 == 0.5].shape[0], group2[group2 == 0.5].shape[0]])/(2* totals) * 100\n",
      "c:\\users\\nb\\jupyter_projekte\\umfrage\\src\\visualization\\visualize.py:90: RuntimeWarning: invalid value encountered in true_divide\n",
      "  almost_unsafe_bars = np.array([group1[group1 == 1].shape[0], group2[group2 == 1].shape[0]])/totals * 100\n",
      "c:\\users\\nb\\jupyter_projekte\\umfrage\\src\\visualization\\visualize.py:91: RuntimeWarning: invalid value encountered in true_divide\n",
      "  almost_unsafe_bars = almost_unsafe_bars + np.array([group1[group1 == 0.5].shape[0], group2[group2 == 0.5].shape[0]])/(2* totals) * 100\n",
      "c:\\users\\nb\\jupyter_projekte\\umfrage\\src\\visualization\\visualize.py:92: RuntimeWarning: invalid value encountered in true_divide\n",
      "  almost_unsafe_bars = almost_unsafe_bars + np.array([group1[group1 == 1.5].shape[0], group2[group2 == 1.5].shape[0]])/(2* totals) * 100\n",
      "c:\\users\\nb\\jupyter_projekte\\umfrage\\src\\visualization\\visualize.py:93: RuntimeWarning: invalid value encountered in true_divide\n",
      "  almost_safe_bars = np.array([group1[group1 == 2].shape[0], group2[group2 == 2].shape[0]])/totals * 100\n",
      "c:\\users\\nb\\jupyter_projekte\\umfrage\\src\\visualization\\visualize.py:94: RuntimeWarning: invalid value encountered in true_divide\n",
      "  almost_safe_bars = almost_safe_bars + np.array([group1[group1 == 1.5].shape[0], group2[group2 == 1.5].shape[0]])/(2* totals) * 100\n",
      "c:\\users\\nb\\jupyter_projekte\\umfrage\\src\\visualization\\visualize.py:95: RuntimeWarning: invalid value encountered in true_divide\n",
      "  almost_safe_bars = almost_safe_bars + np.array([group1[group1 == 2.5].shape[0], group2[group2 == 2.5].shape[0]])/(2* totals) * 100\n",
      "c:\\users\\nb\\jupyter_projekte\\umfrage\\src\\visualization\\visualize.py:96: RuntimeWarning: invalid value encountered in true_divide\n",
      "  safe_bars = np.array([group1[group1 == 3].shape[0], group2[group2 == 3].shape[0]])/totals * 100\n",
      "c:\\users\\nb\\jupyter_projekte\\umfrage\\src\\visualization\\visualize.py:97: RuntimeWarning: invalid value encountered in true_divide\n",
      "  safe_bars = safe_bars + np.array([group1[group1 == 2.5].shape[0], group2[group2 == 2.5].shape[0]])/(2* totals) * 100# plot\n",
      "c:\\users\\nb\\jupyter_projekte\\umfrage\\src\\visualization\\visualize.py:101: RuntimeWarning: invalid value encountered in true_divide\n",
      "  buttom = totals/totals * 100\n"
     ]
    },
    {
     "data": {
      "text/plain": [
       "<Figure size 432x288 with 0 Axes>"
      ]
     },
     "metadata": {},
     "output_type": "display_data"
    },
    {
     "data": {
      "image/png": "[encoded data removed]",
      "text/plain": [
       "<Figure size 1008x360 with 2 Axes>"
      ]
     },
     "metadata": {
      "needs_background": "light"
     },
     "output_type": "display_data"
    },
    {
     "name": "stdout",
     "output_type": "stream",
     "text": [
      "          unsafe  almost_unsafe  almost_safe       safe\n",
      "group1  6.599897      36.123951    38.004337  19.271814\n",
      "group2       NaN            NaN          NaN        NaN\n",
      "Mittelwert von  schmal - 1.69948068253153\n",
      "Mittelwert von  breit - nan\n"
     ]
    },
    {
     "name": "stderr",
     "output_type": "stream",
     "text": [
      "C:\\Users\\NB\\Anaconda3\\lib\\site-packages\\numpy\\matrixlib\\defmatrix.py:447: RuntimeWarning: Mean of empty slice.\n",
      "  return N.ndarray.mean(self, axis, dtype, out, keepdims=True)._collapse(axis)\n",
      "C:\\Users\\NB\\Anaconda3\\lib\\site-packages\\numpy\\core\\_methods.py:154: RuntimeWarning: invalid value encountered in true_divide\n",
      "  ret, rcount, out=ret, casting='unsafe', subok=False)\n"
     ]
    },
    {
     "name": "stdout",
     "output_type": "stream",
     "text": [
      "Bootstrap Ergebnis: nan    (nan, nan)\n",
      "Unterschied im Mittelwert von schmal zu breit (in Prozent) nan\n",
      "Ist der Unterschied signifikant? False\n"
     ]
    },
    {
     "name": "stderr",
     "output_type": "stream",
     "text": [
      "C:\\Users\\NB\\Anaconda3\\lib\\site-packages\\bootstrapped\\bootstrap.py:67: RuntimeWarning: invalid value encountered in sign\n",
      "  return _np.sign(self.upper_bound) == _np.sign(self.lower_bound)\n"
     ]
    },
    {
     "name": "stdout",
     "output_type": "stream",
     "text": [
      "sicher Gruppe 1  53.24430748159562 sicher Gruppe2 0.0\n"
     ]
    }
   ],
   "source": [
    "df = bike_data[\"cp\"]\n",
    "df = df[(df[\"GW-Geschäftsnutzung\"] == \"ja\")]\n",
    "df_w = df[(df[\"gender\"] == \"w\")]\n",
    "df_m = df[(df[\"gender\"] == \"m\")]\n",
    "df_u30 = df[df[\"ageGroup\"] <= 2]\n",
    "df_30_64 = df[(df[\"ageGroup\"] >= 3) | (df[\"ageGroup\"] <= 5)]\n",
    "df_ue64 = df[df[\"ageGroup\"] >= 6]\n",
    "df_Bs =df[df[\"transportRatings_bicycle\"] <= 1] # selten Fahrrad\n",
    "df_Br = df[(df[\"transportRatings_bicycle\"] == 2) | (df[\"transportRatings_bicycle\"] == 3)]  # regelmäßig Fahrrad\n",
    "df_Bo = df[df[\"transportRatings_bicycle\"] >= 4] # oft Fahrrad\n",
    "\n",
    "print ('Ergebnisse für Gesamtgruppe')\n",
    "group1 = df[(df[\"GW-Breite\"] == \"schmal\")] [[\"rating\", \"sessionID\"]]\n",
    "group2 = df[(df[\"GW-Breite\"] == \"breit\")] [[\"rating\", \"sessionID\"]]\n",
    "test_hypothesis(group1, group2, \"GW-Breite\", [\"schmal\", \"breit\"])\n",
    "group_comparison(group1,group2)"
   ]
  },
  {
   "cell_type": "markdown",
   "metadata": {},
   "source": [
    "### c) Einflussfaktor \"Auslage / Fußgängeraufkommen\"\n",
    "Gruppe1: mit Auslagen <br>\n",
    "Gruppe2: ohne Auslagen"
   ]
  },
  {
   "cell_type": "code",
   "execution_count": 8,
   "metadata": {},
   "outputs": [
    {
     "name": "stdout",
     "output_type": "stream",
     "text": [
      "Ergebnisse für Gesamtgruppe\n"
     ]
    },
    {
     "data": {
      "text/plain": [
       "<Figure size 432x288 with 0 Axes>"
      ]
     },
     "metadata": {},
     "output_type": "display_data"
    },
    {
     "data": {
      "image/png": "[encoded data removed]",
      "text/plain": [
       "<Figure size 1008x360 with 2 Axes>"
      ]
     },
     "metadata": {
      "needs_background": "light"
     },
     "output_type": "display_data"
    },
    {
     "name": "stdout",
     "output_type": "stream",
     "text": [
      "          unsafe  almost_unsafe  almost_safe       safe\n",
      "group1  6.599897      36.123951    38.004337  19.271814\n",
      "group2  1.740895      12.454977    42.070208  43.733920\n",
      "Mittelwert von  ja - 1.69948068253153\n",
      "Mittelwert von  nein - 2.2779715282145103\n",
      "Bootstrap Ergebnis: 0.0    (0.0, 0.0)\n",
      "Unterschied im Mittelwert von ja zu nein (in Prozent) -25.394998950509507\n",
      "Ist der Unterschied signifikant? True\n",
      "sicher Gruppe 1  53.24430748159562 sicher Gruppe2 83.36287233434338\n"
     ]
    }
   ],
   "source": [
    "df = bike_data[\"cp\"]\n",
    "df_w = df[(df[\"gender\"] == \"w\")]\n",
    "df_m = df[(df[\"gender\"] == \"m\")]\n",
    "df_u30 = df[df[\"ageGroup\"] <= 2]\n",
    "df_30_64 = df[(df[\"ageGroup\"] >= 3) | (df[\"ageGroup\"] <= 5)]\n",
    "df_ue64 = df[df[\"ageGroup\"] >= 6]\n",
    "df_Bs =df[df[\"transportRatings_bicycle\"] <= 1] # selten Fahrrad\n",
    "df_Br = df[(df[\"transportRatings_bicycle\"] == 2) | (df[\"transportRatings_bicycle\"] == 3)]  # regelmäßig Fahrrad\n",
    "df_Bo = df[df[\"transportRatings_bicycle\"] >= 4] # oft Fahrrad\n",
    "\n",
    "print ('Ergebnisse für Gesamtgruppe')\n",
    "group1 = df[(df[\"GW-Geschäftsnutzung\"] == \"ja\")] [[\"rating\", \"sessionID\"]]\n",
    "group2 = df[(df[\"GW-Geschäftsnutzung\"] == \"-\")] [[\"rating\", \"sessionID\"]]\n",
    "test_hypothesis(group1, group2, \"GW-Geschäftsnutzung\", [\"ja\", \"nein\"])\n",
    "group_comparison(group1,group2)"
   ]
  },
  {
   "cell_type": "markdown",
   "metadata": {},
   "source": [
    "#### c1) Einflussfaktor  \"Auslage / Fußgängeraufkommen\" <br> nur mit Gehweg\n",
    "Gruppe1: mit Auslagen <br>\n",
    "Gruppe2: ohne Auslagen"
   ]
  },
  {
   "cell_type": "code",
   "execution_count": 9,
   "metadata": {},
   "outputs": [
    {
     "name": "stdout",
     "output_type": "stream",
     "text": [
      "Ergebnisse für Gesamtgruppe\n"
     ]
    },
    {
     "data": {
      "text/plain": [
       "<Figure size 432x288 with 0 Axes>"
      ]
     },
     "metadata": {},
     "output_type": "display_data"
    },
    {
     "data": {
      "image/png": "[encoded data removed]",
      "text/plain": [
       "<Figure size 1008x360 with 2 Axes>"
      ]
     },
     "metadata": {
      "needs_background": "light"
     },
     "output_type": "display_data"
    },
    {
     "name": "stdout",
     "output_type": "stream",
     "text": [
      "          unsafe  almost_unsafe  almost_safe       safe\n",
      "group1  6.599897      36.123951    38.004337  19.271814\n",
      "group2  1.740895      12.454977    42.070208  43.733920\n",
      "Mittelwert von  ja - 1.69948068253153\n",
      "Mittelwert von  nein - 2.2779715282145103\n",
      "Bootstrap Ergebnis: 0.0    (0.0, 0.0)\n",
      "Unterschied im Mittelwert von ja zu nein (in Prozent) -25.394998950509507\n",
      "Ist der Unterschied signifikant? True\n",
      "sicher Gruppe 1  53.24430748159562 sicher Gruppe2 83.36287233434338\n"
     ]
    }
   ],
   "source": [
    "df = bike_data[\"cp\"]\n",
    "df = df[(df[\"Häuserfront\"] == \"normal\")]\n",
    "df_w = df[(df[\"gender\"] == \"w\")]\n",
    "df_m = df[(df[\"gender\"] == \"m\")]\n",
    "df_u30 = df[df[\"ageGroup\"] <= 2]\n",
    "df_30_64 = df[(df[\"ageGroup\"] >= 3) | (df[\"ageGroup\"] <= 5)]\n",
    "df_ue64 = df[df[\"ageGroup\"] >= 6]\n",
    "df_Bs =df[df[\"transportRatings_bicycle\"] <= 1] # selten Fahrrad\n",
    "df_Br = df[(df[\"transportRatings_bicycle\"] == 2) | (df[\"transportRatings_bicycle\"] == 3)]  # regelmäßig Fahrrad\n",
    "df_Bo = df[df[\"transportRatings_bicycle\"] >= 4] # oft Fahrrad\n",
    "\n",
    "print ('Ergebnisse für Gesamtgruppe')\n",
    "group1 = df[(df[\"GW-Geschäftsnutzung\"] == \"ja\")] [[\"rating\", \"sessionID\"]]\n",
    "group2 = df[(df[\"GW-Geschäftsnutzung\"] == \"-\")] [[\"rating\", \"sessionID\"]]\n",
    "test_hypothesis(group1, group2, \"GW-Geschäftsnutzung\", [\"ja\", \"nein\"])\n",
    "group_comparison(group1,group2)"
   ]
  },
  {
   "cell_type": "markdown",
   "metadata": {},
   "source": [
    "#### c1.1) Einflussfaktor  \"Auslage / Fußgängeraufkommen\" <br> nur schmaler Gehweg,\n",
    "Gruppe1: mit Auslagen <br>\n",
    "Gruppe2: ohne Auslagen"
   ]
  },
  {
   "cell_type": "code",
   "execution_count": 10,
   "metadata": {},
   "outputs": [
    {
     "name": "stdout",
     "output_type": "stream",
     "text": [
      "Ergebnisse für Gesamtgruppe\n"
     ]
    },
    {
     "data": {
      "text/plain": [
       "<Figure size 432x288 with 0 Axes>"
      ]
     },
     "metadata": {},
     "output_type": "display_data"
    },
    {
     "data": {
      "image/png": "[encoded data removed]",
      "text/plain": [
       "<Figure size 1008x360 with 2 Axes>"
      ]
     },
     "metadata": {
      "needs_background": "light"
     },
     "output_type": "display_data"
    },
    {
     "name": "stdout",
     "output_type": "stream",
     "text": [
      "          unsafe  almost_unsafe  almost_safe       safe\n",
      "group1  6.599897      36.123951    38.004337  19.271814\n",
      "group2  1.740895      12.454977    42.070208  43.733920\n",
      "Mittelwert von  ja - 1.69948068253153\n",
      "Mittelwert von  nein - 2.2779715282145103\n",
      "Bootstrap Ergebnis: 0.0    (0.0, 0.0)\n",
      "Unterschied im Mittelwert von ja zu nein (in Prozent) -25.394998950509507\n",
      "Ist der Unterschied signifikant? True\n",
      "sicher Gruppe 1  53.24430748159562 sicher Gruppe2 83.36287233434338\n"
     ]
    }
   ],
   "source": [
    "df = bike_data[\"cp\"]\n",
    "df = df[(df[\"GW-Breite\"] == \"schmal\")]\n",
    "df_w = df[(df[\"gender\"] == \"w\")]\n",
    "df_m = df[(df[\"gender\"] == \"m\")]\n",
    "df_u30 = df[df[\"ageGroup\"] <= 2]\n",
    "df_30_64 = df[(df[\"ageGroup\"] >= 3) | (df[\"ageGroup\"] <= 5)]\n",
    "df_ue64 = df[df[\"ageGroup\"] >= 6]\n",
    "df_Bs =df[df[\"transportRatings_bicycle\"] <= 1] # selten Fahrrad\n",
    "df_Br = df[(df[\"transportRatings_bicycle\"] == 2) | (df[\"transportRatings_bicycle\"] == 3)]  # regelmäßig Fahrrad\n",
    "df_Bo = df[df[\"transportRatings_bicycle\"] >= 4] # oft Fahrrad\n",
    "\n",
    "print ('Ergebnisse für Gesamtgruppe')\n",
    "group1 = df[(df[\"GW-Geschäftsnutzung\"] == \"ja\")] [[\"rating\", \"sessionID\"]]\n",
    "group2 = df[(df[\"GW-Geschäftsnutzung\"] == \"-\")] [[\"rating\", \"sessionID\"]]\n",
    "test_hypothesis(group1, group2, \"GW-Geschäftsnutzung\", [\"ja\", \"nein\"])\n",
    "group_comparison(group1,group2)"
   ]
  },
  {
   "cell_type": "markdown",
   "metadata": {},
   "source": [
    "#### c1.2) Einflussfaktor  \"Auslage / Fußgängeraufkommen\" <br> nur breiter Gehweg,\n",
    "Gruppe1: mit Auslagen <br>\n",
    "Gruppe2: ohne Auslagen"
   ]
  },
  {
   "cell_type": "code",
   "execution_count": 11,
   "metadata": {},
   "outputs": [
    {
     "name": "stdout",
     "output_type": "stream",
     "text": [
      "Ergebnisse für Gesamtgruppe\n"
     ]
    },
    {
     "name": "stderr",
     "output_type": "stream",
     "text": [
      "c:\\users\\nb\\jupyter_projekte\\umfrage\\src\\visualization\\visualize.py:88: RuntimeWarning: invalid value encountered in true_divide\n",
      "  unsafe_bars = np.array([group1[group1 == 0].shape[0], group2[group2 == 0].shape[0]])/totals * 100\n",
      "c:\\users\\nb\\jupyter_projekte\\umfrage\\src\\visualization\\visualize.py:89: RuntimeWarning: invalid value encountered in true_divide\n",
      "  unsafe_bars = unsafe_bars + np.array([group1[group1 == 0.5].shape[0], group2[group2 == 0.5].shape[0]])/(2* totals) * 100\n",
      "c:\\users\\nb\\jupyter_projekte\\umfrage\\src\\visualization\\visualize.py:90: RuntimeWarning: invalid value encountered in true_divide\n",
      "  almost_unsafe_bars = np.array([group1[group1 == 1].shape[0], group2[group2 == 1].shape[0]])/totals * 100\n",
      "c:\\users\\nb\\jupyter_projekte\\umfrage\\src\\visualization\\visualize.py:91: RuntimeWarning: invalid value encountered in true_divide\n",
      "  almost_unsafe_bars = almost_unsafe_bars + np.array([group1[group1 == 0.5].shape[0], group2[group2 == 0.5].shape[0]])/(2* totals) * 100\n",
      "c:\\users\\nb\\jupyter_projekte\\umfrage\\src\\visualization\\visualize.py:92: RuntimeWarning: invalid value encountered in true_divide\n",
      "  almost_unsafe_bars = almost_unsafe_bars + np.array([group1[group1 == 1.5].shape[0], group2[group2 == 1.5].shape[0]])/(2* totals) * 100\n",
      "c:\\users\\nb\\jupyter_projekte\\umfrage\\src\\visualization\\visualize.py:93: RuntimeWarning: invalid value encountered in true_divide\n",
      "  almost_safe_bars = np.array([group1[group1 == 2].shape[0], group2[group2 == 2].shape[0]])/totals * 100\n",
      "c:\\users\\nb\\jupyter_projekte\\umfrage\\src\\visualization\\visualize.py:94: RuntimeWarning: invalid value encountered in true_divide\n",
      "  almost_safe_bars = almost_safe_bars + np.array([group1[group1 == 1.5].shape[0], group2[group2 == 1.5].shape[0]])/(2* totals) * 100\n",
      "c:\\users\\nb\\jupyter_projekte\\umfrage\\src\\visualization\\visualize.py:95: RuntimeWarning: invalid value encountered in true_divide\n",
      "  almost_safe_bars = almost_safe_bars + np.array([group1[group1 == 2.5].shape[0], group2[group2 == 2.5].shape[0]])/(2* totals) * 100\n",
      "c:\\users\\nb\\jupyter_projekte\\umfrage\\src\\visualization\\visualize.py:96: RuntimeWarning: invalid value encountered in true_divide\n",
      "  safe_bars = np.array([group1[group1 == 3].shape[0], group2[group2 == 3].shape[0]])/totals * 100\n",
      "c:\\users\\nb\\jupyter_projekte\\umfrage\\src\\visualization\\visualize.py:97: RuntimeWarning: invalid value encountered in true_divide\n",
      "  safe_bars = safe_bars + np.array([group1[group1 == 2.5].shape[0], group2[group2 == 2.5].shape[0]])/(2* totals) * 100# plot\n",
      "c:\\users\\nb\\jupyter_projekte\\umfrage\\src\\visualization\\visualize.py:101: RuntimeWarning: invalid value encountered in true_divide\n",
      "  buttom = totals/totals * 100\n"
     ]
    },
    {
     "data": {
      "text/plain": [
       "<Figure size 432x288 with 0 Axes>"
      ]
     },
     "metadata": {},
     "output_type": "display_data"
    },
    {
     "data": {
      "image/png": "[encoded data removed]",
      "text/plain": [
       "<Figure size 1008x360 with 2 Axes>"
      ]
     },
     "metadata": {
      "needs_background": "light"
     },
     "output_type": "display_data"
    },
    {
     "name": "stdout",
     "output_type": "stream",
     "text": [
      "        unsafe  almost_unsafe  almost_safe  safe\n",
      "group1     NaN            NaN          NaN   NaN\n",
      "group2     NaN            NaN          NaN   NaN\n",
      "Mittelwert von  ja - nan\n",
      "Mittelwert von  nein - nan\n",
      "Bootstrap Ergebnis: nan    (nan, nan)\n",
      "Unterschied im Mittelwert von ja zu nein (in Prozent) nan\n",
      "Ist der Unterschied signifikant? False\n",
      "sicher Gruppe 1  0.0 sicher Gruppe2 0.0\n"
     ]
    },
    {
     "name": "stderr",
     "output_type": "stream",
     "text": [
      "C:\\Users\\NB\\Anaconda3\\lib\\site-packages\\numpy\\matrixlib\\defmatrix.py:447: RuntimeWarning: Mean of empty slice.\n",
      "  return N.ndarray.mean(self, axis, dtype, out, keepdims=True)._collapse(axis)\n",
      "C:\\Users\\NB\\Anaconda3\\lib\\site-packages\\numpy\\core\\_methods.py:154: RuntimeWarning: invalid value encountered in true_divide\n",
      "  ret, rcount, out=ret, casting='unsafe', subok=False)\n",
      "C:\\Users\\NB\\Anaconda3\\lib\\site-packages\\bootstrapped\\bootstrap.py:67: RuntimeWarning: invalid value encountered in sign\n",
      "  return _np.sign(self.upper_bound) == _np.sign(self.lower_bound)\n"
     ]
    }
   ],
   "source": [
    "df = bike_data[\"cp\"]\n",
    "df = df[(df[\"GW-Breite\"] == \"breit\")]\n",
    "df_w = df[(df[\"gender\"] == \"w\")]\n",
    "df_m = df[(df[\"gender\"] == \"m\")]\n",
    "df_u30 = df[df[\"ageGroup\"] <= 2]\n",
    "df_30_64 = df[(df[\"ageGroup\"] >= 3) | (df[\"ageGroup\"] <= 5)]\n",
    "df_ue64 = df[df[\"ageGroup\"] >= 6]\n",
    "df_Bs =df[df[\"transportRatings_bicycle\"] <= 1] # selten Fahrrad\n",
    "df_Br = df[(df[\"transportRatings_bicycle\"] == 2) | (df[\"transportRatings_bicycle\"] == 3)]  # regelmäßig Fahrrad\n",
    "df_Bo = df[df[\"transportRatings_bicycle\"] >= 4] # oft Fahrrad\n",
    "\n",
    "print ('Ergebnisse für Gesamtgruppe')\n",
    "group1 = df[(df[\"GW-Geschäftsnutzung\"] == \"ja\")] [[\"rating\", \"sessionID\"]]\n",
    "group2 = df[(df[\"GW-Geschäftsnutzung\"] == \"-\")] [[\"rating\", \"sessionID\"]]\n",
    "test_hypothesis(group1, group2, \"GW-Geschäftsnutzung\", [\"ja\", \"nein\"])\n",
    "group_comparison(group1,group2)"
   ]
  },
  {
   "cell_type": "markdown",
   "metadata": {},
   "source": [
    "### e) Einflussfaktor \"Trennung rechts\"\n",
    "Gruppe 1: mit Trennung<br>\n",
    "Gruppe 2: ohne Trennung"
   ]
  },
  {
   "cell_type": "code",
   "execution_count": 3,
   "metadata": {},
   "outputs": [
    {
     "data": {
      "text/plain": [
       "<Figure size 432x288 with 0 Axes>"
      ]
     },
     "metadata": {},
     "output_type": "display_data"
    },
    {
     "data": {
      "image/png": "[encoded data removed]",
      "text/plain": [
       "<Figure size 1008x360 with 2 Axes>"
      ]
     },
     "metadata": {
      "needs_background": "light"
     },
     "output_type": "display_data"
    },
    {
     "name": "stdout",
     "output_type": "stream",
     "text": [
      "          unsafe  almost_unsafe  almost_safe       safe\n",
      "group1  2.252879      18.648829    44.846192  34.252100\n",
      "group2  7.511847      35.422978    37.209664  19.855512\n",
      "Mittelwert von  mit - 2.1109751348945873\n",
      "Mittelwert von  ohne - 1.6940884020818767\n",
      "Bootstrap Ergebnis: 0.0    (0.0, 0.0)\n",
      "Unterschied im Mittelwert von mit zu ohne (in Prozent) 24.608322228072375\n",
      "Ist der Unterschied signifikant? True\n",
      "sicher Gruppe 1  75.90254213717526 sicher Gruppe2 54.167637691291844\n"
     ]
    },
    {
     "data": {
      "image/png": "[encoded data removed]",
      "text/plain": [
       "<Figure size 1008x360 with 2 Axes>"
      ]
     },
     "metadata": {
      "needs_background": "light"
     },
     "output_type": "display_data"
    },
    {
     "name": "stdout",
     "output_type": "stream",
     "text": [
      "        unsafe  almost_unsafe  almost_safe       safe\n",
      "0.00  8.617505      35.028605    35.731339  20.622551\n",
      "0.25  5.118929      22.883694    37.654879  34.342498\n",
      "0.75  4.541573      20.469663    36.150562  38.838202\n"
     ]
    },
    {
     "data": {
      "text/plain": [
       "<function src.visualization.visualize.likert_plot(df, exclude=['duration', 'rating', 'sessionID'], filename_prefix='')>"
      ]
     },
     "execution_count": 3,
     "metadata": {},
     "output_type": "execute_result"
    }
   ],
   "source": [
    "df = bike_data[\"cp\"]\n",
    "df_w = df[(df[\"gender\"] == \"w\")]\n",
    "df_m = df[(df[\"gender\"] == \"m\")]\n",
    "df_u30 = df[df[\"ageGroup\"] <= 2]\n",
    "df_30_64 = df[(df[\"ageGroup\"] >= 3) | (df[\"ageGroup\"] <= 5)]\n",
    "df_ue64 = df[df[\"ageGroup\"] >= 6]\n",
    "df_Bs =df[df[\"transportRatings_bicycle\"] <= 1] # selten Fahrrad\n",
    "df_Br = df[(df[\"transportRatings_bicycle\"] == 2) | (df[\"transportRatings_bicycle\"] == 3)]  # regelmäßig Fahrrad\n",
    "df_Bo = df[df[\"transportRatings_bicycle\"] >= 4] # oft Fahrrad\n",
    "\n",
    "group1 = df[(df[\"Tr_re-Breite\"] != 0)] [[\"rating\", \"sessionID\"]]\n",
    "group2 = df[(df[\"Tr_re-Breite\"] == 0)] [[\"rating\", \"sessionID\"]]\n",
    "test_hypothesis(group1, group2, \"Trennung rechts \", [\"mit\", \"ohne\"])\n",
    "group_comparison(group1,group2)\n",
    "\n",
    "likert_plot (df[[\"Tr_re-Breite\",\"rating\"]])\n",
    "likert_plot"
   ]
  },
  {
   "cell_type": "markdown",
   "metadata": {},
   "source": [
    "##### e1.1) Einflussfaktor \"Trennung rechts\" - Art\n",
    "Gruppe1: Trennung Grünstreifen <br>\n",
    "Gruppe2: Trennung Aufpflaster"
   ]
  },
  {
   "cell_type": "code",
   "execution_count": 13,
   "metadata": {},
   "outputs": [
    {
     "data": {
      "text/plain": [
       "<Figure size 432x288 with 0 Axes>"
      ]
     },
     "metadata": {},
     "output_type": "display_data"
    },
    {
     "data": {
      "image/png": "[encoded data removed]",
      "text/plain": [
       "<Figure size 1008x360 with 2 Axes>"
      ]
     },
     "metadata": {
      "needs_background": "light"
     },
     "output_type": "display_data"
    },
    {
     "name": "stdout",
     "output_type": "stream",
     "text": [
      "          unsafe  almost_unsafe  almost_safe       safe\n",
      "group1  1.817642      12.402732    39.803980  45.975646\n",
      "group2  4.615293      28.350240    41.860948  25.173518\n",
      "Mittelwert von  Grünstreifen - 2.2993762993762994\n",
      "Mittelwert von  Aufpflasterung - 1.8759269146348698\n",
      "Bootstrap Ergebnis: 25.0    (25.0, 50.0)\n",
      "Unterschied im Mittelwert von Grünstreifen zu Aufpflasterung (in Prozent) 22.572808217523214\n",
      "Ist der Unterschied signifikant? True\n",
      "sicher Gruppe 1  83.06504306504307 sicher Gruppe2 63.09544996144035\n"
     ]
    }
   ],
   "source": [
    "df = bike_data[\"cp\"]\n",
    "df_w = df[(df[\"gender\"] == \"w\")]\n",
    "df_m = df[(df[\"gender\"] == \"m\")]\n",
    "df_u30 = df[df[\"ageGroup\"] <= 2]\n",
    "df_30_64 = df[(df[\"ageGroup\"] >= 3) | (df[\"ageGroup\"] <= 5)]\n",
    "df_ue64 = df[df[\"ageGroup\"] >= 6]\n",
    "df_Bs =df[df[\"transportRatings_bicycle\"] <= 1] # selten Fahrrad\n",
    "df_Br = df[(df[\"transportRatings_bicycle\"] == 2) | (df[\"transportRatings_bicycle\"] == 3)]  # regelmäßig Fahrrad\n",
    "df_Bo = df[df[\"transportRatings_bicycle\"] >= 4] # oft Fahrrad\n",
    "\n",
    "group1 = df[(df[\"Tr_re-Art\"] == \"Grünstreifen\")] [[\"rating\", \"sessionID\"]]\n",
    "group2 = df[(df[\"Tr_re-Art\"] == \"Aufpflasterung\")] [[\"rating\", \"sessionID\"]]\n",
    "test_hypothesis(group1, group2, \"Trennung rechts -Art\", [\"Grünstreifen\", \"Aufpflasterung\"])\n",
    "group_comparison(group1,group2)"
   ]
  },
  {
   "cell_type": "markdown",
   "metadata": {},
   "source": [
    "##### e1.2) Einflussfaktor \"Trennung rechts\" - Art <br> nur breite Trennung\n",
    "Gruppe1: Trennung Grünstreifen <br>\n",
    "Gruppe2: Trennung Aufpflaster"
   ]
  },
  {
   "cell_type": "code",
   "execution_count": 14,
   "metadata": {},
   "outputs": [
    {
     "data": {
      "text/plain": [
       "<Figure size 432x288 with 0 Axes>"
      ]
     },
     "metadata": {},
     "output_type": "display_data"
    },
    {
     "data": {
      "image/png": "[encoded data removed]",
      "text/plain": [
       "<Figure size 1008x360 with 2 Axes>"
      ]
     },
     "metadata": {
      "needs_background": "light"
     },
     "output_type": "display_data"
    },
    {
     "name": "stdout",
     "output_type": "stream",
     "text": [
      "          unsafe  almost_unsafe  almost_safe       safe\n",
      "group1  1.970729      10.933870    35.689949  51.405451\n",
      "group2  5.249444      28.814469    40.803893  25.132194\n",
      "Mittelwert von  Grünstreifen - 2.3653012234783954\n",
      "Mittelwert von  Aufpflasterung - 1.8581883669246686\n",
      "Bootstrap Ergebnis: 25.0    (25.0, 25.0)\n",
      "Unterschied im Mittelwert von Grünstreifen zu Aufpflasterung (in Prozent) 27.290713125763816\n",
      "Ist der Unterschied signifikant? True\n",
      "sicher Gruppe 1  85.488617004801 sicher Gruppe2 62.86305464020231\n"
     ]
    }
   ],
   "source": [
    "df = bike_data[\"cp\"]\n",
    "df = df[(df[\"Tr_re-Breite\"] == 0.75)]\n",
    "df_w = df[(df[\"gender\"] == \"w\")]\n",
    "df_m = df[(df[\"gender\"] == \"m\")]\n",
    "df_u30 = df[df[\"ageGroup\"] <= 2]\n",
    "df_30_64 = df[(df[\"ageGroup\"] >= 3) | (df[\"ageGroup\"] <= 5)]\n",
    "df_ue64 = df[df[\"ageGroup\"] >= 6]\n",
    "df_Bs =df[df[\"transportRatings_bicycle\"] <= 1] # selten Fahrrad\n",
    "df_Br = df[(df[\"transportRatings_bicycle\"] == 2) | (df[\"transportRatings_bicycle\"] == 3)]  # regelmäßig Fahrrad\n",
    "df_Bo = df[df[\"transportRatings_bicycle\"] >= 4] # oft Fahrrad\n",
    "\n",
    "group1 = df[(df[\"Tr_re-Art\"] == \"Grünstreifen\")] [[\"rating\", \"sessionID\"]]\n",
    "group2 = df[(df[\"Tr_re-Art\"] == \"Aufpflasterung\")] [[\"rating\", \"sessionID\"]]\n",
    "test_hypothesis(group1, group2, \"Trennung rechts -Art\", [\"Grünstreifen\", \"Aufpflasterung\"])\n",
    "group_comparison(group1,group2)"
   ]
  },
  {
   "cell_type": "markdown",
   "metadata": {},
   "source": [
    "##### e1.3) Einflussfaktor \"Trennung rechts\" - Art <br> nur schmale Trennung\n",
    "Gruppe1: Trennung Grünstreifen <br>\n",
    "Gruppe2: Trennung Aufpflaster"
   ]
  },
  {
   "cell_type": "code",
   "execution_count": 15,
   "metadata": {},
   "outputs": [
    {
     "data": {
      "text/plain": [
       "<Figure size 432x288 with 0 Axes>"
      ]
     },
     "metadata": {},
     "output_type": "display_data"
    },
    {
     "data": {
      "image/png": "[encoded data removed]",
      "text/plain": [
       "<Figure size 1008x360 with 2 Axes>"
      ]
     },
     "metadata": {
      "needs_background": "light"
     },
     "output_type": "display_data"
    },
    {
     "name": "stdout",
     "output_type": "stream",
     "text": [
      "          unsafe  almost_unsafe  almost_safe       safe\n",
      "group1  2.907560      16.603599    39.771411  40.717430\n",
      "group2  5.169472      27.840689    40.657721  26.332118\n",
      "Mittelwert von  Grünstreifen - 2.1829871032512163\n",
      "Mittelwert von  Aufpflasterung - 1.881524858450322\n",
      "Bootstrap Ergebnis: 0.0    (0.0, 0.0)\n",
      "Unterschied im Mittelwert von Grünstreifen zu Aufpflasterung (in Prozent) 16.022230237722574\n",
      "Ist der Unterschied signifikant? True\n",
      "sicher Gruppe 1  78.17592092053441 sicher Gruppe2 63.941673776467844\n"
     ]
    }
   ],
   "source": [
    "df = bike_data[\"cp\"]\n",
    "df = df[(df[\"Tr_re-Breite\"] == 0.25)]\n",
    "df_w = df[(df[\"gender\"] == \"w\")]\n",
    "df_m = df[(df[\"gender\"] == \"m\")]\n",
    "df_u30 = df[df[\"ageGroup\"] <= 2]\n",
    "df_30_64 = df[(df[\"ageGroup\"] >= 3) | (df[\"ageGroup\"] <= 5)]\n",
    "df_ue64 = df[df[\"ageGroup\"] >= 6]\n",
    "df_Bs =df[df[\"transportRatings_bicycle\"] <= 1] # selten Fahrrad\n",
    "df_Br = df[(df[\"transportRatings_bicycle\"] == 2) | (df[\"transportRatings_bicycle\"] == 3)]  # regelmäßig Fahrrad\n",
    "df_Bo = df[df[\"transportRatings_bicycle\"] >= 4] # oft Fahrrad\n",
    "\n",
    "group1 = df[(df[\"Tr_re-Art\"] == \"Grünstreifen\")] [[\"rating\", \"sessionID\"]]\n",
    "group2 = df[(df[\"Tr_re-Art\"] == \"Aufpflasterung\")] [[\"rating\", \"sessionID\"]]\n",
    "test_hypothesis(group1, group2, \"Trennung rechts -Art\", [\"Grünstreifen\", \"Aufpflasterung\"])\n",
    "group_comparison(group1,group2)"
   ]
  },
  {
   "cell_type": "markdown",
   "metadata": {},
   "source": [
    "##### e1.4) Einflussfaktor \"Trennung rechts\" - Art <br> nur schmale Trennung\n",
    "Gruppe1: Trennung Grünstreifen <br>\n",
    "Gruppe2: Trennung keine Trennung"
   ]
  },
  {
   "cell_type": "code",
   "execution_count": 16,
   "metadata": {},
   "outputs": [
    {
     "data": {
      "text/plain": [
       "<Figure size 432x288 with 0 Axes>"
      ]
     },
     "metadata": {},
     "output_type": "display_data"
    },
    {
     "data": {
      "image/png": "[encoded data removed]",
      "text/plain": [
       "<Figure size 1008x360 with 2 Axes>"
      ]
     },
     "metadata": {
      "needs_background": "light"
     },
     "output_type": "display_data"
    },
    {
     "name": "stdout",
     "output_type": "stream",
     "text": [
      "          unsafe  almost_unsafe  almost_safe       safe\n",
      "group1  1.817642      12.402732    39.803980  45.975646\n",
      "group2  7.511847      35.422978    37.209664  19.855512\n",
      "Mittelwert von  Grünstreifen - 2.2993762993762994\n",
      "Mittelwert von  keine - 1.6940884020818767\n",
      "Bootstrap Ergebnis: 25.0    (25.0, 50.0)\n",
      "Unterschied im Mittelwert von Grünstreifen zu keine (in Prozent) 35.72941627783888\n",
      "Ist der Unterschied signifikant? True\n",
      "sicher Gruppe 1  83.06504306504307 sicher Gruppe2 54.167637691291844\n"
     ]
    }
   ],
   "source": [
    "df = bike_data[\"cp\"]\n",
    "df_w = df[(df[\"gender\"] == \"w\")]\n",
    "df_m = df[(df[\"gender\"] == \"m\")]\n",
    "df_u30 = df[df[\"ageGroup\"] <= 2]\n",
    "df_30_64 = df[(df[\"ageGroup\"] >= 3) | (df[\"ageGroup\"] <= 5)]\n",
    "df_ue64 = df[df[\"ageGroup\"] >= 6]\n",
    "df_Bs =df[df[\"transportRatings_bicycle\"] <= 1] # selten Fahrrad\n",
    "df_Br = df[(df[\"transportRatings_bicycle\"] == 2) | (df[\"transportRatings_bicycle\"] == 3)]  # regelmäßig Fahrrad\n",
    "df_Bo = df[df[\"transportRatings_bicycle\"] >= 4] # oft Fahrrad\n",
    "\n",
    "group1 = df[(df[\"Tr_re-Art\"] == \"Grünstreifen\")] [[\"rating\", \"sessionID\"]]\n",
    "group2 = df[(df[\"Tr_re-Art\"] == \"-\")] [[\"rating\", \"sessionID\"]]\n",
    "test_hypothesis(group1, group2, \"Trennung rechts -Art\", [\"Grünstreifen\", \"keine\"])\n",
    "group_comparison(group1,group2)"
   ]
  },
  {
   "cell_type": "markdown",
   "metadata": {},
   "source": [
    "##### e2.1) Einflussfaktor \"Trennung rechts\"  <br> bei schmaler RVA und schmalem Gehweg mit Auslage\n",
    "Gruppe1: Trennung Grünstreifen schmal <br>\n",
    "Gruppe2: Trennung Grünstreifen breit <br>\n",
    "Gruppe3: Trennung keine Trennung"
   ]
  },
  {
   "cell_type": "code",
   "execution_count": 17,
   "metadata": {},
   "outputs": [
    {
     "name": "stdout",
     "output_type": "stream",
     "text": [
      "Ergebnisse für Gesamtgruppe\n"
     ]
    },
    {
     "data": {
      "text/plain": [
       "<Figure size 432x288 with 0 Axes>"
      ]
     },
     "metadata": {},
     "output_type": "display_data"
    },
    {
     "data": {
      "image/png": "[encoded data removed]",
      "text/plain": [
       "<Figure size 1008x360 with 2 Axes>"
      ]
     },
     "metadata": {
      "needs_background": "light"
     },
     "output_type": "display_data"
    },
    {
     "name": "stdout",
     "output_type": "stream",
     "text": [
      "          unsafe  almost_unsafe  almost_safe       safe\n",
      "group1  2.653749      18.070767    43.944819  35.330666\n",
      "group2  2.373091      12.329757    40.063970  45.233182\n",
      "Mittelwert von  Grün schmal - 2.1195240101095196\n",
      "Mittelwert von  Grün breit - 2.2815724308708214\n",
      "Bootstrap Ergebnis: 0.0    (0.0, 0.0)\n",
      "Unterschied im Mittelwert von Grün schmal zu Grün breit (in Prozent) -7.102488554327937\n",
      "Ist der Unterschied signifikant? True\n",
      "sicher Gruppe 1  78.68576242628474 sicher Gruppe2 84.81221626083368\n"
     ]
    },
    {
     "data": {
      "text/plain": [
       "<Figure size 432x288 with 0 Axes>"
      ]
     },
     "metadata": {},
     "output_type": "display_data"
    },
    {
     "data": {
      "image/png": "[encoded data removed]",
      "text/plain": [
       "<Figure size 1008x360 with 2 Axes>"
      ]
     },
     "metadata": {
      "needs_background": "light"
     },
     "output_type": "display_data"
    },
    {
     "name": "stdout",
     "output_type": "stream",
     "text": [
      "           unsafe  almost_unsafe  almost_safe       safe\n",
      "group1   2.653749      18.070767    43.944819  35.330666\n",
      "group2  10.135558      42.752868    33.065693  14.045881\n",
      "Mittelwert von  Grün schmal - 2.1195240101095196\n",
      "Mittelwert von  keine - 1.5102189781021897\n",
      "Bootstrap Ergebnis: 100.0    (100.0, 100.0)\n",
      "Unterschied im Mittelwert von Grün schmal zu keine (in Prozent) 40.34547577815572\n",
      "Ist der Unterschied signifikant? True\n",
      "sicher Gruppe 1  78.68576242628474 sicher Gruppe2 46.19395203336809\n"
     ]
    },
    {
     "data": {
      "text/plain": [
       "<Figure size 432x288 with 0 Axes>"
      ]
     },
     "metadata": {},
     "output_type": "display_data"
    },
    {
     "data": {
      "image/png": "[encoded data removed]",
      "text/plain": [
       "<Figure size 1008x360 with 2 Axes>"
      ]
     },
     "metadata": {
      "needs_background": "light"
     },
     "output_type": "display_data"
    },
    {
     "name": "stdout",
     "output_type": "stream",
     "text": [
      "           unsafe  almost_unsafe  almost_safe       safe\n",
      "group1   2.373091      12.329757    40.063970  45.233182\n",
      "group2  10.135558      42.752868    33.065693  14.045881\n",
      "Mittelwert von  Grün breit - 2.2815724308708214\n",
      "Mittelwert von  keine - 1.5102189781021897\n",
      "Bootstrap Ergebnis: 100.0    (100.0, 100.0)\n",
      "Unterschied im Mittelwert von Grün breit zu keine (in Prozent) 51.07560320410949\n",
      "Ist der Unterschied signifikant? True\n",
      "sicher Gruppe 1  84.81221626083368 sicher Gruppe2 46.19395203336809\n"
     ]
    }
   ],
   "source": [
    "df = bike_data[\"cp\"]\n",
    "df = df[(df[\"GW-Breite\"] == \"schmal\") & (df[\"GW-Geschäftsnutzung\"] == \"ja\") & (df[\"RVA-Breite\"] == 2.0)]\n",
    "df_w = df[(df[\"gender\"] == \"w\")]\n",
    "df_m = df[(df[\"gender\"] == \"m\")]\n",
    "df_u30 = df[df[\"ageGroup\"] <= 2]\n",
    "df_30_64 = df[(df[\"ageGroup\"] >= 3) | (df[\"ageGroup\"] <= 5)]\n",
    "df_ue64 = df[df[\"ageGroup\"] >= 6]\n",
    "df_Bs =df[df[\"transportRatings_bicycle\"] <= 1] # selten Fahrrad\n",
    "df_Br = df[(df[\"transportRatings_bicycle\"] == 2) | (df[\"transportRatings_bicycle\"] == 3)]  # regelmäßig Fahrrad\n",
    "df_Bo = df[df[\"transportRatings_bicycle\"] >= 4] # oft Fahrrad\n",
    "\n",
    "print ('Ergebnisse für Gesamtgruppe')\n",
    "group1 = df[(df[\"Tr_re-Art\"] == \"Grünstreifen\") & (df[\"Tr_re-Breite\"] == 0.25)] [[\"rating\", \"sessionID\"]]\n",
    "group2 = df[(df[\"Tr_re-Art\"] == \"Grünstreifen\") & (df[\"Tr_re-Breite\"] == 0.75)] [[\"rating\", \"sessionID\"]]\n",
    "group3 = df[(df[\"Tr_re-Art\"] == \"-\")] [[\"rating\", \"sessionID\"]]\n",
    "test_hypothesis(group1, group2, \"Trennung rechts\", [\"Grün schmal\", \"Grün breit\"])\n",
    "group_comparison(group1,group2)\n",
    "\n",
    "test_hypothesis(group1, group3, \"Trennung rechts\", [\"Grün schmal\", \"keine\"])\n",
    "group_comparison(group1,group3)\n",
    "\n",
    "test_hypothesis(group2, group3, \"Trennung rechts\", [\"Grün breit\", \"keine\"])\n",
    "group_comparison(group2,group3)"
   ]
  },
  {
   "cell_type": "markdown",
   "metadata": {},
   "source": [
    "##### e2.2) Einflussfaktor \"Trennung rechts\"  <br> bei breiter RVA und schmalem Gehweg mit Auslage\n",
    "Gruppe1: Trennung Grünstreifen schmal <br>\n",
    "Gruppe2: Trennung Grünstreifen breit <br>\n",
    "Gruppe3: Trennung keine Trennung"
   ]
  },
  {
   "cell_type": "code",
   "execution_count": 18,
   "metadata": {},
   "outputs": [
    {
     "name": "stdout",
     "output_type": "stream",
     "text": [
      "Ergebnisse für Gesamtgruppe\n"
     ]
    },
    {
     "data": {
      "text/plain": [
       "<Figure size 432x288 with 0 Axes>"
      ]
     },
     "metadata": {},
     "output_type": "display_data"
    },
    {
     "data": {
      "image/png": "[encoded data removed]",
      "text/plain": [
       "<Figure size 1008x360 with 2 Axes>"
      ]
     },
     "metadata": {
      "needs_background": "light"
     },
     "output_type": "display_data"
    },
    {
     "name": "stdout",
     "output_type": "stream",
     "text": [
      "           unsafe  almost_unsafe  almost_safe       safe\n",
      "group1  10.649515      38.654576    33.340363  17.355546\n",
      "group2   6.173101      25.307594    37.144675  31.374629\n",
      "Mittelwert von  Grün schmal - 1.5740194010965838\n",
      "Mittelwert von  Grün breit - 1.9372083156554942\n",
      "Bootstrap Ergebnis: 0.0    (0.0, 50.0)\n",
      "Unterschied im Mittelwert von Grün schmal zu Grün breit (in Prozent) -18.748056758987122\n",
      "Ist der Unterschied signifikant? False\n",
      "sicher Gruppe 1  50.08435259384226 sicher Gruppe2 67.96775562155283\n"
     ]
    },
    {
     "data": {
      "text/plain": [
       "<Figure size 432x288 with 0 Axes>"
      ]
     },
     "metadata": {},
     "output_type": "display_data"
    },
    {
     "data": {
      "image/png": "[encoded data removed]",
      "text/plain": [
       "<Figure size 1008x360 with 2 Axes>"
      ]
     },
     "metadata": {
      "needs_background": "light"
     },
     "output_type": "display_data"
    },
    {
     "name": "stdout",
     "output_type": "stream",
     "text": [
      "           unsafe  almost_unsafe  almost_safe       safe\n",
      "group1  10.649515      38.654576    33.340363  17.355546\n",
      "group2  14.257239      46.097356    27.864037  11.781368\n",
      "Mittelwert von  Grün schmal - 1.5740194010965838\n",
      "Mittelwert von  keine - 1.3716953420058748\n",
      "Bootstrap Ergebnis: 100.0    (100.0, 200.0)\n",
      "Unterschied im Mittelwert von Grün schmal zu keine (in Prozent) 14.74992681646377\n",
      "Ist der Unterschied signifikant? True\n",
      "sicher Gruppe 1  50.08435259384226 sicher Gruppe2 39.02643726395301\n"
     ]
    },
    {
     "data": {
      "text/plain": [
       "<Figure size 432x288 with 0 Axes>"
      ]
     },
     "metadata": {},
     "output_type": "display_data"
    },
    {
     "data": {
      "image/png": "[encoded data removed]",
      "text/plain": [
       "<Figure size 1008x360 with 2 Axes>"
      ]
     },
     "metadata": {
      "needs_background": "light"
     },
     "output_type": "display_data"
    },
    {
     "name": "stdout",
     "output_type": "stream",
     "text": [
      "           unsafe  almost_unsafe  almost_safe       safe\n",
      "group1   6.173101      25.307594    37.144675  31.374629\n",
      "group2  14.257239      46.097356    27.864037  11.781368\n",
      "Mittelwert von  Grün breit - 1.9372083156554942\n",
      "Mittelwert von  keine - 1.3716953420058748\n",
      "Bootstrap Ergebnis: 100.0    (100.0, 100.0)\n",
      "Unterschied im Mittelwert von Grün breit zu keine (in Prozent) 41.22730145184071\n",
      "Ist der Unterschied signifikant? True\n",
      "sicher Gruppe 1  67.96775562155283 sicher Gruppe2 39.02643726395301\n"
     ]
    }
   ],
   "source": [
    "df = bike_data[\"cp\"]\n",
    "df = df[(df[\"GW-Breite\"] == \"schmal\") & (df[\"GW-Geschäftsnutzung\"] == \"ja\") & (df[\"RVA-Breite\"] == 3.5)]\n",
    "df_w = df[(df[\"gender\"] == \"w\")]\n",
    "df_m = df[(df[\"gender\"] == \"m\")]\n",
    "df_u30 = df[df[\"ageGroup\"] <= 2]\n",
    "df_30_64 = df[(df[\"ageGroup\"] >= 3) | (df[\"ageGroup\"] <= 5)]\n",
    "df_ue64 = df[df[\"ageGroup\"] >= 6]\n",
    "df_Bs =df[df[\"transportRatings_bicycle\"] <= 1] # selten Fahrrad\n",
    "df_Br = df[(df[\"transportRatings_bicycle\"] == 2) | (df[\"transportRatings_bicycle\"] == 3)]  # regelmäßig Fahrrad\n",
    "df_Bo = df[df[\"transportRatings_bicycle\"] >= 4] # oft Fahrrad\n",
    "\n",
    "print ('Ergebnisse für Gesamtgruppe')\n",
    "group1 = df[(df[\"Tr_re-Art\"] == \"Grünstreifen\") & (df[\"Tr_re-Breite\"] == 0.25)] [[\"rating\", \"sessionID\"]]\n",
    "group2 = df[(df[\"Tr_re-Art\"] == \"Grünstreifen\") & (df[\"Tr_re-Breite\"] == 0.75)] [[\"rating\", \"sessionID\"]]\n",
    "group3 = df[(df[\"Tr_re-Art\"] == \"-\")] [[\"rating\", \"sessionID\"]]\n",
    "test_hypothesis(group1, group2, \"Trennung rechts\", [\"Grün schmal\", \"Grün breit\"])\n",
    "group_comparison(group1,group2)\n",
    "\n",
    "test_hypothesis(group1, group3, \"Trennung rechts\", [\"Grün schmal\", \"keine\"])\n",
    "group_comparison(group1,group3)\n",
    "\n",
    "test_hypothesis(group2, group3, \"Trennung rechts\", [\"Grün breit\", \"keine\"])\n",
    "group_comparison(group2,group3)"
   ]
  },
  {
   "cell_type": "markdown",
   "metadata": {},
   "source": [
    "##### e3.1) Einflussfaktor \"Trennung rechts\"  <br> bei schmaler RVA und schmalem Gehweg ohne Auslage\n",
    "Gruppe1: Trennung Grünstreifen schmal <br>\n",
    "Gruppe2: Trennung Grünstreifen breit <br>\n",
    "Gruppe3: Trennung keine Trennung <br>\n",
    "Gruppe4: Trennun Grünstreifen schmal+breit"
   ]
  },
  {
   "cell_type": "code",
   "execution_count": 5,
   "metadata": {
    "scrolled": false
   },
   "outputs": [
    {
     "name": "stdout",
     "output_type": "stream",
     "text": [
      "Ergebnisse für Gesamtgruppe\n"
     ]
    },
    {
     "data": {
      "text/plain": [
       "<Figure size 432x288 with 0 Axes>"
      ]
     },
     "metadata": {},
     "output_type": "display_data"
    },
    {
     "data": {
      "image/png": "[encoded data removed]",
      "text/plain": [
       "<Figure size 1008x360 with 2 Axes>"
      ]
     },
     "metadata": {
      "needs_background": "light"
     },
     "output_type": "display_data"
    },
    {
     "name": "stdout",
     "output_type": "stream",
     "text": [
      "          unsafe  almost_unsafe  almost_safe       safe\n",
      "group1  1.041237       6.515464    35.298969  57.144330\n",
      "group2  1.268719       5.355657    30.126872  63.248752\n",
      "Mittelwert von  Grün schmal - 2.4854639175257733\n",
      "Mittelwert von  Grün breit - 2.553556572379368\n",
      "Bootstrap Ergebnis: 0.0    (0.0, 0.0)\n",
      "Unterschied im Mittelwert von Grün schmal zu Grün breit (in Prozent) -2.666581018416472\n",
      "Ist der Unterschied signifikant? True\n",
      "sicher Gruppe 1  92.18556701030927 sicher Gruppe2 93.13643926788686\n"
     ]
    },
    {
     "data": {
      "text/plain": [
       "<Figure size 432x288 with 0 Axes>"
      ]
     },
     "metadata": {},
     "output_type": "display_data"
    },
    {
     "data": {
      "image/png": "[encoded data removed]",
      "text/plain": [
       "<Figure size 1008x360 with 2 Axes>"
      ]
     },
     "metadata": {
      "needs_background": "light"
     },
     "output_type": "display_data"
    },
    {
     "name": "stdout",
     "output_type": "stream",
     "text": [
      "          unsafe  almost_unsafe  almost_safe       safe\n",
      "group1  1.041237       6.515464    35.298969  57.144330\n",
      "group2  5.258467      26.203209    41.196276  27.342048\n",
      "Mittelwert von  Grün schmal - 2.4854639175257733\n",
      "Mittelwert von  keine - 1.9062190532778769\n",
      "Bootstrap Ergebnis: 50.0    (50.0, 50.0)\n",
      "Unterschied im Mittelwert von Grün schmal zu keine (in Prozent) 30.3871091442426\n",
      "Ist der Unterschied signifikant? True\n",
      "sicher Gruppe 1  92.18556701030927 sicher Gruppe2 67.73618538324422\n"
     ]
    },
    {
     "data": {
      "text/plain": [
       "<Figure size 432x288 with 0 Axes>"
      ]
     },
     "metadata": {},
     "output_type": "display_data"
    },
    {
     "data": {
      "image/png": "[encoded data removed]",
      "text/plain": [
       "<Figure size 1008x360 with 2 Axes>"
      ]
     },
     "metadata": {
      "needs_background": "light"
     },
     "output_type": "display_data"
    },
    {
     "name": "stdout",
     "output_type": "stream",
     "text": [
      "          unsafe  almost_unsafe  almost_safe       safe\n",
      "group1  1.268719       5.355657    30.126872  63.248752\n",
      "group2  5.258467      26.203209    41.196276  27.342048\n",
      "Mittelwert von  Grün breit - 2.553556572379368\n",
      "Mittelwert von  keine - 1.9062190532778769\n",
      "Bootstrap Ergebnis: 50.0    (50.0, 50.0)\n",
      "Unterschied im Mittelwert von Grün breit zu keine (in Prozent) 33.95924083270225\n",
      "Ist der Unterschied signifikant? True\n",
      "sicher Gruppe 1  93.13643926788686 sicher Gruppe2 67.73618538324422\n"
     ]
    },
    {
     "data": {
      "text/plain": [
       "<Figure size 432x288 with 0 Axes>"
      ]
     },
     "metadata": {},
     "output_type": "display_data"
    },
    {
     "data": {
      "image/png": "[encoded data removed]",
      "text/plain": [
       "<Figure size 1008x360 with 2 Axes>"
      ]
     },
     "metadata": {
      "needs_background": "light"
     },
     "output_type": "display_data"
    },
    {
     "name": "stdout",
     "output_type": "stream",
     "text": [
      "          unsafe  almost_unsafe  almost_safe       safe\n",
      "group1  1.116151       5.759819    33.257729  59.866301\n",
      "group2  5.258467      26.203209    41.196276  27.342048\n",
      "Mittelwert von  Grün - 2.5187417930046556\n",
      "Mittelwert von  keine - 1.9062190532778769\n",
      "Bootstrap Ergebnis: 50.0    (50.0, 50.0)\n",
      "Unterschied im Mittelwert von Grün zu keine (in Prozent) 32.132862100685806\n",
      "Ist der Unterschied signifikant? True\n",
      "sicher Gruppe 1  92.59878238032708 sicher Gruppe2 67.73618538324422\n"
     ]
    }
   ],
   "source": [
    "df = bike_data[\"cp\"]\n",
    "df = df[(df[\"GW-Breite\"] == \"schmal\") & (df[\"GW-Geschäftsnutzung\"] != \"ja\") & (df[\"RVA-Breite\"] == 2.0)]\n",
    "df_w = df[(df[\"gender\"] == \"w\")]\n",
    "df_m = df[(df[\"gender\"] == \"m\")]\n",
    "df_u30 = df[df[\"ageGroup\"] <= 2]\n",
    "df_30_64 = df[(df[\"ageGroup\"] >= 3) | (df[\"ageGroup\"] <= 5)]\n",
    "df_ue64 = df[df[\"ageGroup\"] >= 6]\n",
    "df_Bs =df[df[\"transportRatings_bicycle\"] <= 1] # selten Fahrrad\n",
    "df_Br = df[(df[\"transportRatings_bicycle\"] == 2) | (df[\"transportRatings_bicycle\"] == 3)]  # regelmäßig Fahrrad\n",
    "df_Bo = df[df[\"transportRatings_bicycle\"] >= 4] # oft Fahrrad\n",
    "\n",
    "print ('Ergebnisse für Gesamtgruppe')\n",
    "group1 = df[(df[\"Tr_re-Art\"] == \"Grünstreifen\") & (df[\"Tr_re-Breite\"] == 0.25)] [[\"rating\", \"sessionID\"]]\n",
    "group2 = df[(df[\"Tr_re-Art\"] == \"Grünstreifen\") & (df[\"Tr_re-Breite\"] == 0.75)] [[\"rating\", \"sessionID\"]]\n",
    "group3 = df[(df[\"Tr_re-Art\"] == \"-\")] [[\"rating\", \"sessionID\"]]\n",
    "group4 = df[(df[\"Tr_re-Art\"] == \"Grünstreifen\")] [[\"rating\", \"sessionID\"]]\n",
    "test_hypothesis(group1, group2, \"Trennung rechts\", [\"Grün schmal\", \"Grün breit\"])\n",
    "group_comparison(group1,group2)\n",
    "\n",
    "test_hypothesis(group1, group3, \"Trennung rechts\", [\"Grün schmal\", \"keine\"])\n",
    "group_comparison(group1,group3)\n",
    "\n",
    "test_hypothesis(group2, group3, \"Trennung rechts\", [\"Grün breit\", \"keine\"])\n",
    "group_comparison(group2,group3)\n",
    "\n",
    "test_hypothesis(group4, group3, \"Trennung rechts\", [\"Grün\", \"keine\"])\n",
    "group_comparison(group4,group3)"
   ]
  },
  {
   "cell_type": "markdown",
   "metadata": {},
   "source": [
    "##### e3.1) Einflussfaktor \"Trennung rechts\"  <br> bei breiter RVA und schmalem Gehweg ohne Auslage\n",
    "Gruppe1: Trennung Grünstreifen schmal <br>\n",
    "Gruppe2: Trennung Grünstreifen breit <br>\n",
    "Gruppe3: Trennung keine Trennung"
   ]
  },
  {
   "cell_type": "code",
   "execution_count": 20,
   "metadata": {},
   "outputs": [
    {
     "name": "stdout",
     "output_type": "stream",
     "text": [
      "Ergebnisse für Gesamtgruppe\n"
     ]
    },
    {
     "data": {
      "text/plain": [
       "<Figure size 432x288 with 0 Axes>"
      ]
     },
     "metadata": {},
     "output_type": "display_data"
    },
    {
     "data": {
      "image/png": "[encoded data removed]",
      "text/plain": [
       "<Figure size 1008x360 with 2 Axes>"
      ]
     },
     "metadata": {
      "needs_background": "light"
     },
     "output_type": "display_data"
    },
    {
     "name": "stdout",
     "output_type": "stream",
     "text": [
      "          unsafe  almost_unsafe  almost_safe       safe\n",
      "group1  1.370152       6.566189    36.351180  55.712479\n",
      "group2  0.758385       3.215125    27.857295  68.169195\n",
      "Mittelwert von  Grün schmal - 2.4640598650927488\n",
      "Mittelwert von  Grün breit - 2.634372997222816\n",
      "Bootstrap Ergebnis: 0.0    (0.0, 0.0)\n",
      "Unterschied im Mittelwert von Grün schmal zu Grün breit (in Prozent) -6.465034841672495\n",
      "Ist der Unterschied signifikant? True\n",
      "sicher Gruppe 1  91.77908937605397 sicher Gruppe2 95.87694936979278\n"
     ]
    },
    {
     "data": {
      "text/plain": [
       "<Figure size 432x288 with 0 Axes>"
      ]
     },
     "metadata": {},
     "output_type": "display_data"
    },
    {
     "data": {
      "image/png": "[encoded data removed]",
      "text/plain": [
       "<Figure size 1008x360 with 2 Axes>"
      ]
     },
     "metadata": {
      "needs_background": "light"
     },
     "output_type": "display_data"
    },
    {
     "name": "stdout",
     "output_type": "stream",
     "text": [
      "          unsafe  almost_unsafe  almost_safe       safe\n",
      "group1  1.370152       6.566189    36.351180  55.712479\n",
      "group2  4.285714      24.229911    42.042411  29.441964\n",
      "Mittelwert von  Grün schmal - 2.4640598650927488\n",
      "Mittelwert von  keine - 1.96640625\n",
      "Bootstrap Ergebnis: 50.0    (50.0, 50.0)\n",
      "Unterschied im Mittelwert von Grün schmal zu keine (in Prozent) 25.3077722415065\n",
      "Ist der Unterschied signifikant? True\n",
      "sicher Gruppe 1  91.77908937605397 sicher Gruppe2 71.00446428571428\n"
     ]
    },
    {
     "data": {
      "text/plain": [
       "<Figure size 432x288 with 0 Axes>"
      ]
     },
     "metadata": {},
     "output_type": "display_data"
    },
    {
     "data": {
      "image/png": "[encoded data removed]",
      "text/plain": [
       "<Figure size 1008x360 with 2 Axes>"
      ]
     },
     "metadata": {
      "needs_background": "light"
     },
     "output_type": "display_data"
    },
    {
     "name": "stdout",
     "output_type": "stream",
     "text": [
      "          unsafe  almost_unsafe  almost_safe       safe\n",
      "group1  0.758385       3.215125    27.857295  68.169195\n",
      "group2  4.285714      24.229911    42.042411  29.441964\n",
      "Mittelwert von  Grün breit - 2.634372997222816\n",
      "Mittelwert von  keine - 1.96640625\n",
      "Bootstrap Ergebnis: 50.0    (50.0, 50.0)\n",
      "Unterschied im Mittelwert von Grün breit zu keine (in Prozent) 33.96890887744158\n",
      "Ist der Unterschied signifikant? True\n",
      "sicher Gruppe 1  95.87694936979278 sicher Gruppe2 71.00446428571428\n"
     ]
    }
   ],
   "source": [
    "df = bike_data[\"cp\"]\n",
    "df = df[(df[\"GW-Breite\"] == \"schmal\") & (df[\"GW-Geschäftsnutzung\"] != \"ja\") & (df[\"RVA-Breite\"] == 3.5)]\n",
    "df_w = df[(df[\"gender\"] == \"w\")]\n",
    "df_m = df[(df[\"gender\"] == \"m\")]\n",
    "df_u30 = df[df[\"ageGroup\"] <= 2]\n",
    "df_30_64 = df[(df[\"ageGroup\"] >= 3) | (df[\"ageGroup\"] <= 5)]\n",
    "df_ue64 = df[df[\"ageGroup\"] >= 6]\n",
    "df_Bs =df[df[\"transportRatings_bicycle\"] <= 1] # selten Fahrrad\n",
    "df_Br = df[(df[\"transportRatings_bicycle\"] == 2) | (df[\"transportRatings_bicycle\"] == 3)]  # regelmäßig Fahrrad\n",
    "df_Bo = df[df[\"transportRatings_bicycle\"] >= 4] # oft Fahrrad\n",
    "\n",
    "print ('Ergebnisse für Gesamtgruppe')\n",
    "group1 = df[(df[\"Tr_re-Art\"] == \"Grünstreifen\") & (df[\"Tr_re-Breite\"] == 0.25)] [[\"rating\", \"sessionID\"]]\n",
    "group2 = df[(df[\"Tr_re-Art\"] == \"Grünstreifen\") & (df[\"Tr_re-Breite\"] == 0.75)] [[\"rating\", \"sessionID\"]]\n",
    "group3 = df[(df[\"Tr_re-Art\"] == \"-\")] [[\"rating\", \"sessionID\"]]\n",
    "test_hypothesis(group1, group2, \"Trennung rechts\", [\"Grün schmal\", \"Grün breit\"])\n",
    "group_comparison(group1,group2)\n",
    "\n",
    "test_hypothesis(group1, group3, \"Trennung rechts\", [\"Grün schmal\", \"keine\"])\n",
    "group_comparison(group1,group3)\n",
    "\n",
    "test_hypothesis(group2, group3, \"Trennung rechts\", [\"Grün breit\", \"keine\"])\n",
    "group_comparison(group2,group3)"
   ]
  },
  {
   "cell_type": "markdown",
   "metadata": {},
   "source": [
    "### f) Einflussfaktor \"Trennung links\"\n",
    "Gruppe1: Trennung schmal <br>\n",
    "Gruppe2: Trennung breit"
   ]
  },
  {
   "cell_type": "code",
   "execution_count": 21,
   "metadata": {},
   "outputs": [
    {
     "data": {
      "image/png": "[encoded data removed]",
      "text/plain": [
       "<Figure size 1008x360 with 2 Axes>"
      ]
     },
     "metadata": {
      "needs_background": "light"
     },
     "output_type": "display_data"
    },
    {
     "name": "stdout",
     "output_type": "stream",
     "text": [
      "        unsafe  almost_unsafe  almost_safe       safe\n",
      "0.00  5.481612      23.825144    37.103387  33.589857\n",
      "0.25  5.455424      23.968574    36.671288  33.904714\n",
      "0.75  5.755214      24.897830    36.515694  32.831262\n"
     ]
    }
   ],
   "source": [
    "df = bike_data[\"cp\"]\n",
    "df_w = df[(df[\"gender\"] == \"w\")]\n",
    "df_m = df[(df[\"gender\"] == \"m\")]\n",
    "df_u30 = df[df[\"ageGroup\"] <= 2]\n",
    "df_30_64 = df[(df[\"ageGroup\"] >= 3) | (df[\"ageGroup\"] <= 5)]\n",
    "df_ue64 = df[df[\"ageGroup\"] >= 6]\n",
    "df_Bs =df[df[\"transportRatings_bicycle\"] <= 1] # selten Fahrrad\n",
    "df_Br = df[(df[\"transportRatings_bicycle\"] == 2) | (df[\"transportRatings_bicycle\"] == 3)]  # regelmäßig Fahrrad\n",
    "df_Bo = df[df[\"transportRatings_bicycle\"] >= 4] # oft Fahrrad\n",
    "\n",
    "likert_plot (df[[\"Tr_li-Breite\",\"rating\"]])"
   ]
  },
  {
   "cell_type": "markdown",
   "metadata": {},
   "source": [
    "### g) Einflussfaktor \"Trennung links - baulich\"\n",
    "Gruppe1: mit baulicher Trennung <br>\n",
    "Gruppe2: ohne bauliche Trennung"
   ]
  },
  {
   "cell_type": "code",
   "execution_count": 22,
   "metadata": {},
   "outputs": [
    {
     "name": "stdout",
     "output_type": "stream",
     "text": [
      "Ergebnisse für Gesamtgruppe\n"
     ]
    },
    {
     "data": {
      "text/plain": [
       "<Figure size 432x288 with 0 Axes>"
      ]
     },
     "metadata": {},
     "output_type": "display_data"
    },
    {
     "data": {
      "image/png": "[encoded data removed]",
      "text/plain": [
       "<Figure size 1008x360 with 2 Axes>"
      ]
     },
     "metadata": {
      "needs_background": "light"
     },
     "output_type": "display_data"
    },
    {
     "name": "stdout",
     "output_type": "stream",
     "text": [
      "          unsafe  almost_unsafe  almost_safe       safe\n",
      "group1  3.025744      22.634570    44.098964  30.240722\n",
      "group2  3.911755      23.717484    40.675008  31.695752\n",
      "Mittelwert von  ja - 2.0155466399197595\n",
      "Mittelwert von  nein - 2.001547579848535\n",
      "Bootstrap Ergebnis: 0.0    (0.0, 0.0)\n",
      "Unterschied im Mittelwert von ja zu nein (in Prozent) 0.6994118057530213\n",
      "Ist der Unterschied signifikant? True\n",
      "sicher Gruppe 1  70.44466733533935 sicher Gruppe2 68.5018109976951\n"
     ]
    }
   ],
   "source": [
    "df = bike_data[\"cp\"]\n",
    "df_w = df[(df[\"gender\"] == \"w\")]\n",
    "df_m = df[(df[\"gender\"] == \"m\")]\n",
    "df_u30 = df[df[\"ageGroup\"] <= 2]\n",
    "df_30_64 = df[(df[\"ageGroup\"] >= 3) | (df[\"ageGroup\"] <= 5)]\n",
    "df_ue64 = df[df[\"ageGroup\"] >= 6]\n",
    "df_Bs =df[df[\"transportRatings_bicycle\"] <= 1] # selten Fahrrad\n",
    "df_Br = df[(df[\"transportRatings_bicycle\"] == 2) | (df[\"transportRatings_bicycle\"] == 3)]  # regelmäßig Fahrrad\n",
    "df_Bo = df[df[\"transportRatings_bicycle\"] >= 4] # oft Fahrrad\n",
    "\n",
    "print ('Ergebnisse für Gesamtgruppe')\n",
    "group1 = df[(df[\"Tr_li_baulTrennung\"] == \"-\")] [[\"rating\", \"sessionID\"]]\n",
    "group2 = df[(df[\"Tr_li_baulTrennung\"] == \"Sperrpfosten\")] [[\"rating\", \"sessionID\"]]\n",
    "test_hypothesis(group1, group2, \"Bauliche Trennung\", [\"ja\", \"nein\"])\n",
    "group_comparison(group1,group2)"
   ]
  },
  {
   "cell_type": "markdown",
   "metadata": {},
   "source": [
    "#### g1) Einflussfaktor  \"Trennung links - baulich\" <br> nur mit fließendem Verkehr\n",
    "Gruppe1: mit Auslagen <br>\n",
    "Gruppe2: ohne Auslagen\n"
   ]
  },
  {
   "cell_type": "code",
   "execution_count": 23,
   "metadata": {},
   "outputs": [
    {
     "name": "stdout",
     "output_type": "stream",
     "text": [
      "Ergebnisse für Gesamtgruppe\n"
     ]
    },
    {
     "data": {
      "text/plain": [
       "<Figure size 432x288 with 0 Axes>"
      ]
     },
     "metadata": {},
     "output_type": "display_data"
    },
    {
     "data": {
      "image/png": "[encoded data removed]",
      "text/plain": [
       "<Figure size 1008x360 with 2 Axes>"
      ]
     },
     "metadata": {
      "needs_background": "light"
     },
     "output_type": "display_data"
    },
    {
     "name": "stdout",
     "output_type": "stream",
     "text": [
      "          unsafe  almost_unsafe  almost_safe       safe\n",
      "group1  3.865916      23.663445    41.766577  30.704062\n",
      "group2  3.911755      23.717484    40.675008  31.695752\n",
      "Mittelwert von  ja - 1.9930878394910692\n",
      "Mittelwert von  nein - 2.001547579848535\n",
      "Bootstrap Ergebnis: 0.0    (0.0, 0.0)\n",
      "Unterschied im Mittelwert von ja zu nein (in Prozent) -0.422659967848776\n",
      "Ist der Unterschied signifikant? True\n",
      "sicher Gruppe 1  68.37533643259115 sicher Gruppe2 68.5018109976951\n"
     ]
    }
   ],
   "source": [
    "df = bike_data[\"cp\"]\n",
    "df = df[(df[\"Links_RVA\"] == \"Fahrstreifen\")]\n",
    "df_w = df[(df[\"gender\"] == \"w\")]\n",
    "df_m = df[(df[\"gender\"] == \"m\")]\n",
    "df_u30 = df[df[\"ageGroup\"] <= 2]\n",
    "df_30_64 = df[(df[\"ageGroup\"] >= 3) | (df[\"ageGroup\"] <= 5)]\n",
    "df_ue64 = df[df[\"ageGroup\"] >= 6]\n",
    "df_Bs =df[df[\"transportRatings_bicycle\"] <= 1] # selten Fahrrad\n",
    "df_Br = df[(df[\"transportRatings_bicycle\"] == 2) | (df[\"transportRatings_bicycle\"] == 3)]  # regelmäßig Fahrrad\n",
    "df_Bo = df[df[\"transportRatings_bicycle\"] >= 4] # oft Fahrrad\n",
    "\n",
    "print ('Ergebnisse für Gesamtgruppe')\n",
    "group1 = df[(df[\"Tr_li_baulTrennung\"] == \"-\")] [[\"rating\", \"sessionID\"]]\n",
    "group2 = df[(df[\"Tr_li_baulTrennung\"] == \"Sperrpfosten\")] [[\"rating\", \"sessionID\"]]\n",
    "test_hypothesis(group1, group2, \"Bauliche Trennung\", [\"ja\", \"nein\"])\n",
    "group_comparison(group1,group2)"
   ]
  },
  {
   "cell_type": "markdown",
   "metadata": {},
   "source": [
    "#### g2) Einflussfaktor  \"Trennung links - baulich\" <br> nur Parken\n",
    "Gruppe1: mit Auslagen <br>\n",
    "Gruppe2: ohne Auslagen"
   ]
  },
  {
   "cell_type": "code",
   "execution_count": 24,
   "metadata": {},
   "outputs": [
    {
     "name": "stdout",
     "output_type": "stream",
     "text": [
      "Ergebnisse für Gesamtgruppe\n"
     ]
    },
    {
     "name": "stderr",
     "output_type": "stream",
     "text": [
      "c:\\users\\nb\\jupyter_projekte\\umfrage\\src\\visualization\\visualize.py:88: RuntimeWarning: invalid value encountered in true_divide\n",
      "  unsafe_bars = np.array([group1[group1 == 0].shape[0], group2[group2 == 0].shape[0]])/totals * 100\n",
      "c:\\users\\nb\\jupyter_projekte\\umfrage\\src\\visualization\\visualize.py:89: RuntimeWarning: invalid value encountered in true_divide\n",
      "  unsafe_bars = unsafe_bars + np.array([group1[group1 == 0.5].shape[0], group2[group2 == 0.5].shape[0]])/(2* totals) * 100\n",
      "c:\\users\\nb\\jupyter_projekte\\umfrage\\src\\visualization\\visualize.py:90: RuntimeWarning: invalid value encountered in true_divide\n",
      "  almost_unsafe_bars = np.array([group1[group1 == 1].shape[0], group2[group2 == 1].shape[0]])/totals * 100\n",
      "c:\\users\\nb\\jupyter_projekte\\umfrage\\src\\visualization\\visualize.py:91: RuntimeWarning: invalid value encountered in true_divide\n",
      "  almost_unsafe_bars = almost_unsafe_bars + np.array([group1[group1 == 0.5].shape[0], group2[group2 == 0.5].shape[0]])/(2* totals) * 100\n",
      "c:\\users\\nb\\jupyter_projekte\\umfrage\\src\\visualization\\visualize.py:92: RuntimeWarning: invalid value encountered in true_divide\n",
      "  almost_unsafe_bars = almost_unsafe_bars + np.array([group1[group1 == 1.5].shape[0], group2[group2 == 1.5].shape[0]])/(2* totals) * 100\n",
      "c:\\users\\nb\\jupyter_projekte\\umfrage\\src\\visualization\\visualize.py:93: RuntimeWarning: invalid value encountered in true_divide\n",
      "  almost_safe_bars = np.array([group1[group1 == 2].shape[0], group2[group2 == 2].shape[0]])/totals * 100\n",
      "c:\\users\\nb\\jupyter_projekte\\umfrage\\src\\visualization\\visualize.py:94: RuntimeWarning: invalid value encountered in true_divide\n",
      "  almost_safe_bars = almost_safe_bars + np.array([group1[group1 == 1.5].shape[0], group2[group2 == 1.5].shape[0]])/(2* totals) * 100\n",
      "c:\\users\\nb\\jupyter_projekte\\umfrage\\src\\visualization\\visualize.py:95: RuntimeWarning: invalid value encountered in true_divide\n",
      "  almost_safe_bars = almost_safe_bars + np.array([group1[group1 == 2.5].shape[0], group2[group2 == 2.5].shape[0]])/(2* totals) * 100\n",
      "c:\\users\\nb\\jupyter_projekte\\umfrage\\src\\visualization\\visualize.py:96: RuntimeWarning: invalid value encountered in true_divide\n",
      "  safe_bars = np.array([group1[group1 == 3].shape[0], group2[group2 == 3].shape[0]])/totals * 100\n",
      "c:\\users\\nb\\jupyter_projekte\\umfrage\\src\\visualization\\visualize.py:97: RuntimeWarning: invalid value encountered in true_divide\n",
      "  safe_bars = safe_bars + np.array([group1[group1 == 2.5].shape[0], group2[group2 == 2.5].shape[0]])/(2* totals) * 100# plot\n",
      "c:\\users\\nb\\jupyter_projekte\\umfrage\\src\\visualization\\visualize.py:101: RuntimeWarning: invalid value encountered in true_divide\n",
      "  buttom = totals/totals * 100\n"
     ]
    },
    {
     "data": {
      "text/plain": [
       "<Figure size 432x288 with 0 Axes>"
      ]
     },
     "metadata": {},
     "output_type": "display_data"
    },
    {
     "data": {
      "image/png": "[encoded data removed]",
      "text/plain": [
       "<Figure size 1008x360 with 2 Axes>"
      ]
     },
     "metadata": {
      "needs_background": "light"
     },
     "output_type": "display_data"
    },
    {
     "name": "stdout",
     "output_type": "stream",
     "text": [
      "        unsafe  almost_unsafe  almost_safe  safe\n",
      "group1     NaN            NaN          NaN   NaN\n",
      "group2     NaN            NaN          NaN   NaN\n",
      "Mittelwert von  ja - nan\n",
      "Mittelwert von  nein - nan\n",
      "Bootstrap Ergebnis: nan    (nan, nan)\n",
      "Unterschied im Mittelwert von ja zu nein (in Prozent) nan\n",
      "Ist der Unterschied signifikant? False\n",
      "sicher Gruppe 1  0.0 sicher Gruppe2 0.0\n"
     ]
    },
    {
     "name": "stderr",
     "output_type": "stream",
     "text": [
      "C:\\Users\\NB\\Anaconda3\\lib\\site-packages\\numpy\\matrixlib\\defmatrix.py:447: RuntimeWarning: Mean of empty slice.\n",
      "  return N.ndarray.mean(self, axis, dtype, out, keepdims=True)._collapse(axis)\n",
      "C:\\Users\\NB\\Anaconda3\\lib\\site-packages\\numpy\\core\\_methods.py:154: RuntimeWarning: invalid value encountered in true_divide\n",
      "  ret, rcount, out=ret, casting='unsafe', subok=False)\n",
      "C:\\Users\\NB\\Anaconda3\\lib\\site-packages\\bootstrapped\\bootstrap.py:67: RuntimeWarning: invalid value encountered in sign\n",
      "  return _np.sign(self.upper_bound) == _np.sign(self.lower_bound)\n"
     ]
    }
   ],
   "source": [
    "df = bike_data[\"cp\"]\n",
    "df = df[(df[\"Links_RVA\"] == \"Parken\")]\n",
    "df_w = df[(df[\"gender\"] == \"w\")]\n",
    "df_m = df[(df[\"gender\"] == \"m\")]\n",
    "df_u30 = df[df[\"ageGroup\"] <= 2]\n",
    "df_30_64 = df[(df[\"ageGroup\"] >= 3) | (df[\"ageGroup\"] <= 5)]\n",
    "df_ue64 = df[df[\"ageGroup\"] >= 6]\n",
    "df_Bs =df[df[\"transportRatings_bicycle\"] <= 1] # selten Fahrrad\n",
    "df_Br = df[(df[\"transportRatings_bicycle\"] == 2) | (df[\"transportRatings_bicycle\"] == 3)]  # regelmäßig Fahrrad\n",
    "df_Bo = df[df[\"transportRatings_bicycle\"] >= 4] # oft Fahrrad\n",
    "\n",
    "print ('Ergebnisse für Gesamtgruppe')\n",
    "group1 = df[(df[\"Tr_li_baulTrennung\"] == \"-\")] [[\"rating\", \"sessionID\"]]\n",
    "group2 = df[(df[\"Tr_li_baulTrennung\"] == \"Sperrpfosten\")] [[\"rating\", \"sessionID\"]]\n",
    "test_hypothesis(group1, group2, \"Bauliche Trennung\", [\"ja\", \"nein\"])\n",
    "group_comparison(group1,group2)"
   ]
  },
  {
   "cell_type": "markdown",
   "metadata": {},
   "source": [
    "### h) Einflussfaktor \"Links RVA\"\n"
   ]
  },
  {
   "cell_type": "code",
   "execution_count": 25,
   "metadata": {},
   "outputs": [
    {
     "data": {
      "image/png": "[encoded data removed]",
      "text/plain": [
       "<Figure size 1008x360 with 2 Axes>"
      ]
     },
     "metadata": {
      "needs_background": "light"
     },
     "output_type": "display_data"
    },
    {
     "name": "stdout",
     "output_type": "stream",
     "text": [
      "                unsafe  almost_unsafe  almost_safe       safe\n",
      "Fahrstreifen  5.605980      24.503330    36.708630  33.182061\n",
      "Grünanlage    5.554298      24.063593    36.590949  33.791160\n"
     ]
    }
   ],
   "source": [
    "df = bike_data[\"cp\"]\n",
    "df_w = df[(df[\"gender\"] == \"w\")]\n",
    "df_m = df[(df[\"gender\"] == \"m\")]\n",
    "df_u30 = df[df[\"ageGroup\"] <= 2]\n",
    "df_30_64 = df[(df[\"ageGroup\"] >= 3) | (df[\"ageGroup\"] <= 5)]\n",
    "df_ue64 = df[df[\"ageGroup\"] >= 6]\n",
    "df_Bs =df[df[\"transportRatings_bicycle\"] <= 1] # selten Fahrrad\n",
    "df_Br = df[(df[\"transportRatings_bicycle\"] == 2) | (df[\"transportRatings_bicycle\"] == 3)]  # regelmäßig Fahrrad\n",
    "df_Bo = df[df[\"transportRatings_bicycle\"] >= 4] # oft Fahrrad\n",
    "\n",
    "likert_plot (df[[\"Links_RVA\",\"rating\"]])"
   ]
  },
  {
   "cell_type": "code",
   "execution_count": 26,
   "metadata": {},
   "outputs": [],
   "source": [
    "### h) Einflussfaktor \"Rechts RVA\""
   ]
  },
  {
   "cell_type": "code",
   "execution_count": 27,
   "metadata": {},
   "outputs": [
    {
     "data": {
      "image/png": "[encoded data removed]",
      "text/plain": [
       "<Figure size 1008x360 with 2 Axes>"
      ]
     },
     "metadata": {
      "needs_background": "light"
     },
     "output_type": "display_data"
    },
    {
     "name": "stdout",
     "output_type": "stream",
     "text": [
      "          unsafe  almost_unsafe  almost_safe       safe\n",
      "normal  5.587458      24.345741    36.666456  33.400344\n"
     ]
    }
   ],
   "source": [
    "df = bike_data[\"cp\"]\n",
    "df_w = df[(df[\"gender\"] == \"w\")]\n",
    "df_m = df[(df[\"gender\"] == \"m\")]\n",
    "df_u30 = df[df[\"ageGroup\"] <= 2]\n",
    "df_30_64 = df[(df[\"ageGroup\"] >= 3) | (df[\"ageGroup\"] <= 5)]\n",
    "df_ue64 = df[df[\"ageGroup\"] >= 6]\n",
    "df_Bs =df[df[\"transportRatings_bicycle\"] <= 1] # selten Fahrrad\n",
    "df_Br = df[(df[\"transportRatings_bicycle\"] == 2) | (df[\"transportRatings_bicycle\"] == 3)]  # regelmäßig Fahrrad\n",
    "df_Bo = df[df[\"transportRatings_bicycle\"] >= 4] # oft Fahrrad\n",
    "\n",
    "likert_plot (df[[\"Häuserfront\",\"rating\"]])"
   ]
  }
 ],
 "metadata": {
  "kernelspec": {
   "display_name": "Python 3",
   "language": "python",
   "name": "python3"
  },
  "language_info": {
   "codemirror_mode": {
    "name": "ipython",
    "version": 3
   },
   "file_extension": ".py",
   "mimetype": "text/x-python",
   "name": "python",
   "nbconvert_exporter": "python",
   "pygments_lexer": "ipython3",
   "version": "3.7.4"
  }
 },
 "nbformat": 4,
 "nbformat_minor": 2
}
