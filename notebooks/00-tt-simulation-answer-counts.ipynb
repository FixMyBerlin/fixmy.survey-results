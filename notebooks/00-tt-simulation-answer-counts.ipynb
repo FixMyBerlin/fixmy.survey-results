{
 "cells": [
  {
   "cell_type": "code",
   "execution_count": 2,
   "metadata": {},
   "outputs": [],
   "source": [
    "import pandas as pd\n",
    "import matplotlib.pyplot as plt\n",
    "import numpy as np\n",
    "import seaborn as sns\n"
   ]
  },
  {
   "cell_type": "code",
   "execution_count": 14,
   "metadata": {},
   "outputs": [
    {
     "name": "stdout",
     "output_type": "stream",
     "text": "(2372, 15)\n"
    },
    {
     "data": {
      "text/html": "<div>\n<style scoped>\n    .dataframe tbody tr th:only-of-type {\n        vertical-align: middle;\n    }\n\n    .dataframe tbody tr th {\n        vertical-align: top;\n    }\n\n    .dataframe thead th {\n        text-align: right;\n    }\n</style>\n<table border=\"1\" class=\"dataframe\">\n  <thead>\n    <tr style=\"text-align: right;\">\n      <th></th>\n      <th>Basisszenario</th>\n      <th>FS-Art</th>\n      <th>FS-Aufkommen</th>\n      <th>FS-Geschwindigkeit</th>\n      <th>RVA-Breite</th>\n      <th>RVA-Lage</th>\n      <th>RVA-Oberfläche</th>\n      <th>Tr_li-Breite</th>\n      <th>Tr_li-Markierung</th>\n      <th>Tr_li-baulTennung</th>\n      <th>Tr_re-Breite</th>\n      <th>Tr_re-Markierung</th>\n      <th>Parken</th>\n      <th>HVS_lD</th>\n      <th>Häufigkeit</th>\n    </tr>\n  </thead>\n  <tbody>\n    <tr>\n      <th>0</th>\n      <td>1</td>\n      <td>Kfz</td>\n      <td>normal</td>\n      <td>50</td>\n      <td>-</td>\n      <td>-</td>\n      <td>-</td>\n      <td>-</td>\n      <td>-</td>\n      <td>-</td>\n      <td>-</td>\n      <td>-</td>\n      <td>-</td>\n      <td>1</td>\n      <td>1</td>\n    </tr>\n    <tr>\n      <th>1</th>\n      <td>2</td>\n      <td>Kfz</td>\n      <td>normal</td>\n      <td>50</td>\n      <td>schmal</td>\n      <td>FS-Parken/Seitenraum</td>\n      <td>Asphalt</td>\n      <td>schmal</td>\n      <td>unterbrochen</td>\n      <td>-</td>\n      <td>-</td>\n      <td>-</td>\n      <td>-</td>\n      <td>2</td>\n      <td>1</td>\n    </tr>\n    <tr>\n      <th>2</th>\n      <td>3</td>\n      <td>Kfz</td>\n      <td>normal</td>\n      <td>50</td>\n      <td>-</td>\n      <td>-</td>\n      <td>-</td>\n      <td>-</td>\n      <td>-</td>\n      <td>-</td>\n      <td>-</td>\n      <td>-</td>\n      <td>Längs</td>\n      <td>3</td>\n      <td>1</td>\n    </tr>\n    <tr>\n      <th>3</th>\n      <td>4</td>\n      <td>Kfz</td>\n      <td>normal</td>\n      <td>50</td>\n      <td>breit</td>\n      <td>FS-Parken/Seitenraum</td>\n      <td>Asphalt</td>\n      <td>schmal</td>\n      <td>unterbrochen</td>\n      <td>-</td>\n      <td>-</td>\n      <td>-</td>\n      <td>-</td>\n      <td>4</td>\n      <td>1</td>\n    </tr>\n    <tr>\n      <th>4</th>\n      <td>5</td>\n      <td>Kfz</td>\n      <td>normal</td>\n      <td>50</td>\n      <td>schmal</td>\n      <td>FS-Parken/Seitenraum</td>\n      <td>Asphalt</td>\n      <td>schmal</td>\n      <td>unterbrochen</td>\n      <td>-</td>\n      <td>-</td>\n      <td>-</td>\n      <td>Längs</td>\n      <td>5</td>\n      <td>1</td>\n    </tr>\n  </tbody>\n</table>\n</div>",
      "text/plain": "   Basisszenario FS-Art FS-Aufkommen  FS-Geschwindigkeit RVA-Breite  \\\n0              1    Kfz       normal                  50          -   \n1              2    Kfz       normal                  50     schmal   \n2              3    Kfz       normal                  50          -   \n3              4    Kfz       normal                  50      breit   \n4              5    Kfz       normal                  50     schmal   \n\n               RVA-Lage RVA-Oberfläche Tr_li-Breite Tr_li-Markierung  \\\n0                     -              -            -                -   \n1  FS-Parken/Seitenraum        Asphalt       schmal     unterbrochen   \n2                     -              -            -                -   \n3  FS-Parken/Seitenraum        Asphalt       schmal     unterbrochen   \n4  FS-Parken/Seitenraum        Asphalt       schmal     unterbrochen   \n\n  Tr_li-baulTennung Tr_re-Breite Tr_re-Markierung Parken  HVS_lD  Häufigkeit  \n0                 -            -                -      -       1           1  \n1                 -            -                -      -       2           1  \n2                 -            -                -  Längs       3           1  \n3                 -            -                -      -       4           1  \n4                 -            -                -  Längs       5           1  "
     },
     "execution_count": 14,
     "metadata": {},
     "output_type": "execute_result"
    }
   ],
   "source": [
    "# simulating the experiment\n",
    "hvs_df = pd.read_csv(\"data/Szenarienübersicht KatasterKi Okt19 - HVS.csv\", header=1)\n",
    "print(hvs_df.shape)\n",
    "hvs_df.head(5)"
   ]
  },
  {
   "cell_type": "code",
   "execution_count": 15,
   "metadata": {},
   "outputs": [
    {
     "name": "stdout",
     "output_type": "stream",
     "text": "(75, 7)\n"
    },
    {
     "data": {
      "text/html": "<div>\n<style scoped>\n    .dataframe tbody tr th:only-of-type {\n        vertical-align: middle;\n    }\n\n    .dataframe tbody tr th {\n        vertical-align: top;\n    }\n\n    .dataframe thead th {\n        text-align: right;\n    }\n</style>\n<table border=\"1\" class=\"dataframe\">\n  <thead>\n    <tr style=\"text-align: right;\">\n      <th></th>\n      <th>Basisszenario</th>\n      <th>FS-Art</th>\n      <th>besondere Merkmale</th>\n      <th>FS-Breite</th>\n      <th>Parken</th>\n      <th>NVS_lD</th>\n      <th>Häufigkeit</th>\n    </tr>\n  </thead>\n  <tbody>\n    <tr>\n      <th>0</th>\n      <td>1</td>\n      <td>Einbahn-hin</td>\n      <td>-</td>\n      <td>breit</td>\n      <td>-</td>\n      <td>1</td>\n      <td>1</td>\n    </tr>\n    <tr>\n      <th>1</th>\n      <td>2</td>\n      <td>Einbahn-hin</td>\n      <td>-</td>\n      <td>breit</td>\n      <td>einseitig</td>\n      <td>2</td>\n      <td>1</td>\n    </tr>\n    <tr>\n      <th>2</th>\n      <td>3</td>\n      <td>Einbahn-hin</td>\n      <td>-</td>\n      <td>breit</td>\n      <td>beidseitig</td>\n      <td>3</td>\n      <td>1</td>\n    </tr>\n    <tr>\n      <th>3</th>\n      <td>4</td>\n      <td>Einbahn-hin</td>\n      <td>-</td>\n      <td>schmal</td>\n      <td>-</td>\n      <td>4</td>\n      <td>1</td>\n    </tr>\n    <tr>\n      <th>4</th>\n      <td>5</td>\n      <td>Einbahn-hin</td>\n      <td>-</td>\n      <td>schmal</td>\n      <td>einseitig</td>\n      <td>5</td>\n      <td>1</td>\n    </tr>\n  </tbody>\n</table>\n</div>",
      "text/plain": "   Basisszenario       FS-Art besondere Merkmale FS-Breite      Parken  \\\n0              1  Einbahn-hin                  -     breit           -   \n1              2  Einbahn-hin                  -     breit   einseitig   \n2              3  Einbahn-hin                  -     breit  beidseitig   \n3              4  Einbahn-hin                  -    schmal           -   \n4              5  Einbahn-hin                  -    schmal   einseitig   \n\n   NVS_lD  Häufigkeit  \n0       1           1  \n1       2           1  \n2       3           1  \n3       4           1  \n4       5           1  "
     },
     "execution_count": 15,
     "metadata": {},
     "output_type": "execute_result"
    }
   ],
   "source": [
    "nvs_df = pd.read_csv(\"data/Szenarienübersicht KatasterKi Okt19 - Nebenstraßen.csv\", header=1)\n",
    "print(nvs_df.shape)\n",
    "nvs_df.head(5)"
   ]
  },
  {
   "cell_type": "code",
   "execution_count": 16,
   "metadata": {},
   "outputs": [
    {
     "name": "stdout",
     "output_type": "stream",
     "text": "(750, 12)\n"
    },
    {
     "data": {
      "text/html": "<div>\n<style scoped>\n    .dataframe tbody tr th:only-of-type {\n        vertical-align: middle;\n    }\n\n    .dataframe tbody tr th {\n        vertical-align: top;\n    }\n\n    .dataframe thead th {\n        text-align: right;\n    }\n</style>\n<table border=\"1\" class=\"dataframe\">\n  <thead>\n    <tr style=\"text-align: right;\">\n      <th></th>\n      <th>Basisszenario</th>\n      <th>Linksseitig</th>\n      <th>Tr_li-Breite</th>\n      <th>Tr_li-Art</th>\n      <th>RVA-Breite</th>\n      <th>Tr_re-Breite</th>\n      <th>Tr_re-Art</th>\n      <th>GW-Breite</th>\n      <th>GW-Geschäftsnutzung</th>\n      <th>Häuserfront</th>\n      <th>SR_lD</th>\n      <th>Häufigkeit</th>\n    </tr>\n  </thead>\n  <tbody>\n    <tr>\n      <th>0</th>\n      <td>1</td>\n      <td>Parken</td>\n      <td>schmal</td>\n      <td>Aufpflasterung</td>\n      <td>schmal</td>\n      <td>-</td>\n      <td>-</td>\n      <td>schmal</td>\n      <td>-</td>\n      <td>normal</td>\n      <td>19</td>\n      <td>1</td>\n    </tr>\n    <tr>\n      <th>1</th>\n      <td>3</td>\n      <td>Grünanlage</td>\n      <td>schmal</td>\n      <td>Aufpflasterung</td>\n      <td>schmal</td>\n      <td>-</td>\n      <td>-</td>\n      <td>schmal</td>\n      <td>-</td>\n      <td>normal</td>\n      <td>21</td>\n      <td>1</td>\n    </tr>\n  </tbody>\n</table>\n</div>",
      "text/plain": "   Basisszenario Linksseitig Tr_li-Breite       Tr_li-Art RVA-Breite  \\\n0              1      Parken       schmal  Aufpflasterung     schmal   \n1              3  Grünanlage       schmal  Aufpflasterung     schmal   \n\n  Tr_re-Breite Tr_re-Art GW-Breite GW-Geschäftsnutzung Häuserfront  SR_lD  \\\n0            -         -    schmal                   -      normal     19   \n1            -         -    schmal                   -      normal     21   \n\n   Häufigkeit  \n0           1  \n1           1  "
     },
     "execution_count": 16,
     "metadata": {},
     "output_type": "execute_result"
    }
   ],
   "source": [
    "sr_df = pd.read_csv(\"data/Szenarienübersicht KatasterKi Okt19 - Seitenraum.csv\", header=1)\n",
    "print(sr_df.shape)\n",
    "sr_df.head(2)"
   ]
  },
  {
   "cell_type": "code",
   "execution_count": 74,
   "metadata": {},
   "outputs": [
    {
     "name": "stdout",
     "output_type": "stream",
     "text": "422\n(47,)\n436\n(38,)\n398\n(46,)\n433\n(57,)\n442\n(58,)\n409\n(45,)\n412\n(47,)\n405\n(55,)\n420\n(61,)\n415\n(60,)\n454\n(62,)\n425\n(49,)\n385\n(47,)\n396\n(38,)\n459\n(47,)\n400\n(38,)\n420\n(52,)\n433\n(55,)\n429\n(58,)\n419\n(36,)\n398\n(52,)\n429\n(42,)\n383\n(40,)\n401\n(57,)\n434\n(44,)\n398\n(39,)\n418\n(65,)\n419\n(50,)\n405\n(62,)\n446\n(46,)\n438\n(53,)\n416\n(48,)\n407\n(54,)\n381\n(74,)\n418\n(46,)\n456\n(46,)\n416\n(63,)\n426\n(51,)\n463\n(49,)\n436\n(52,)\n412\n(46,)\n427\n(50,)\n395\n(51,)\n386\n(47,)\n422\n(64,)\n435\n(46,)\n428\n(62,)\n403\n(38,)\n402\n(37,)\n439\n(47,)\n426\n(64,)\n411\n(50,)\n414\n(47,)\n407\n(48,)\n441\n(44,)\n427\n(43,)\n404\n(45,)\n407\n(49,)\n434\n(37,)\n408\n(63,)\n426\n(50,)\n422\n(53,)\n452\n(54,)\n439\n(48,)\n452\n(43,)\n399\n(40,)\n461\n(60,)\n409\n(47,)\n411\n(49,)\n433\n(49,)\n405\n(52,)\n425\n(44,)\n412\n(53,)\n438\n(48,)\n405\n(55,)\n423\n(50,)\n429\n(57,)\n436\n(47,)\n431\n(58,)\n423\n(48,)\n429\n(59,)\n415\n(44,)\n451\n(51,)\n462\n(43,)\n441\n(56,)\n445\n(47,)\n443\n(57,)\n433\n(56,)\n426\n(43,)\n397\n(63,)\n422\n(59,)\n401\n(48,)\n418\n(41,)\n396\n(58,)\n370\n(48,)\n420\n(44,)\n393\n(51,)\n430\n(49,)\n431\n(63,)\n415\n(46,)\n"
    },
    {
     "ename": "TypeError",
     "evalue": "unsupported operand type(s) for +: 'NoneType' and 'NoneType'",
     "output_type": "error",
     "traceback": [
      "\u001b[0;31m---------------------------------------------------------------------------\u001b[0m",
      "\u001b[0;31mTypeError\u001b[0m                                 Traceback (most recent call last)",
      "\u001b[0;32m<ipython-input-74-fee8277b0115>\u001b[0m in \u001b[0;36m<module>\u001b[0;34m()\u001b[0m\n\u001b[1;32m     19\u001b[0m     \u001b[0mbus_data\u001b[0m\u001b[0;34m.\u001b[0m\u001b[0mappend\u001b[0m\u001b[0;34m(\u001b[0m\u001b[0mb\u001b[0m\u001b[0;34m)\u001b[0m\u001b[0;34m\u001b[0m\u001b[0m\n\u001b[1;32m     20\u001b[0m \u001b[0;34m\u001b[0m\u001b[0m\n\u001b[0;32m---> 21\u001b[0;31m \u001b[0msns\u001b[0m\u001b[0;34m.\u001b[0m\u001b[0mdistplot\u001b[0m\u001b[0;34m(\u001b[0m\u001b[0mnvs_data\u001b[0m\u001b[0;34m)\u001b[0m\u001b[0;34m\u001b[0m\u001b[0m\n\u001b[0m\u001b[1;32m     22\u001b[0m \u001b[0msns\u001b[0m\u001b[0;34m.\u001b[0m\u001b[0mdistplot\u001b[0m\u001b[0;34m(\u001b[0m\u001b[0mbus_data\u001b[0m\u001b[0;34m)\u001b[0m\u001b[0;34m\u001b[0m\u001b[0m\n",
      "\u001b[0;32m/Library/Frameworks/Python.framework/Versions/3.6/lib/python3.6/site-packages/seaborn/distributions.py\u001b[0m in \u001b[0;36mdistplot\u001b[0;34m(a, bins, hist, kde, rug, fit, hist_kws, kde_kws, rug_kws, fit_kws, color, vertical, norm_hist, axlabel, label, ax)\u001b[0m\n\u001b[1;32m    196\u001b[0m             \u001b[0mline\u001b[0m\u001b[0;34m,\u001b[0m \u001b[0;34m=\u001b[0m \u001b[0max\u001b[0m\u001b[0;34m.\u001b[0m\u001b[0mplot\u001b[0m\u001b[0;34m(\u001b[0m\u001b[0;36m0\u001b[0m\u001b[0;34m,\u001b[0m \u001b[0ma\u001b[0m\u001b[0;34m.\u001b[0m\u001b[0mmean\u001b[0m\u001b[0;34m(\u001b[0m\u001b[0;34m)\u001b[0m\u001b[0;34m)\u001b[0m\u001b[0;34m\u001b[0m\u001b[0m\n\u001b[1;32m    197\u001b[0m         \u001b[0;32melse\u001b[0m\u001b[0;34m:\u001b[0m\u001b[0;34m\u001b[0m\u001b[0m\n\u001b[0;32m--> 198\u001b[0;31m             \u001b[0mline\u001b[0m\u001b[0;34m,\u001b[0m \u001b[0;34m=\u001b[0m \u001b[0max\u001b[0m\u001b[0;34m.\u001b[0m\u001b[0mplot\u001b[0m\u001b[0;34m(\u001b[0m\u001b[0ma\u001b[0m\u001b[0;34m.\u001b[0m\u001b[0mmean\u001b[0m\u001b[0;34m(\u001b[0m\u001b[0;34m)\u001b[0m\u001b[0;34m,\u001b[0m \u001b[0;36m0\u001b[0m\u001b[0;34m)\u001b[0m\u001b[0;34m\u001b[0m\u001b[0m\n\u001b[0m\u001b[1;32m    199\u001b[0m         \u001b[0mcolor\u001b[0m \u001b[0;34m=\u001b[0m \u001b[0mline\u001b[0m\u001b[0;34m.\u001b[0m\u001b[0mget_color\u001b[0m\u001b[0;34m(\u001b[0m\u001b[0;34m)\u001b[0m\u001b[0;34m\u001b[0m\u001b[0m\n\u001b[1;32m    200\u001b[0m         \u001b[0mline\u001b[0m\u001b[0;34m.\u001b[0m\u001b[0mremove\u001b[0m\u001b[0;34m(\u001b[0m\u001b[0;34m)\u001b[0m\u001b[0;34m\u001b[0m\u001b[0m\n",
      "\u001b[0;32m/Library/Frameworks/Python.framework/Versions/3.6/lib/python3.6/site-packages/numpy/core/_methods.py\u001b[0m in \u001b[0;36m_mean\u001b[0;34m(a, axis, dtype, out, keepdims)\u001b[0m\n\u001b[1;32m     68\u001b[0m             \u001b[0mis_float16_result\u001b[0m \u001b[0;34m=\u001b[0m \u001b[0;32mTrue\u001b[0m\u001b[0;34m\u001b[0m\u001b[0m\n\u001b[1;32m     69\u001b[0m \u001b[0;34m\u001b[0m\u001b[0m\n\u001b[0;32m---> 70\u001b[0;31m     \u001b[0mret\u001b[0m \u001b[0;34m=\u001b[0m \u001b[0mumr_sum\u001b[0m\u001b[0;34m(\u001b[0m\u001b[0marr\u001b[0m\u001b[0;34m,\u001b[0m \u001b[0maxis\u001b[0m\u001b[0;34m,\u001b[0m \u001b[0mdtype\u001b[0m\u001b[0;34m,\u001b[0m \u001b[0mout\u001b[0m\u001b[0;34m,\u001b[0m \u001b[0mkeepdims\u001b[0m\u001b[0;34m)\u001b[0m\u001b[0;34m\u001b[0m\u001b[0m\n\u001b[0m\u001b[1;32m     71\u001b[0m     \u001b[0;32mif\u001b[0m \u001b[0misinstance\u001b[0m\u001b[0;34m(\u001b[0m\u001b[0mret\u001b[0m\u001b[0;34m,\u001b[0m \u001b[0mmu\u001b[0m\u001b[0;34m.\u001b[0m\u001b[0mndarray\u001b[0m\u001b[0;34m)\u001b[0m\u001b[0;34m:\u001b[0m\u001b[0;34m\u001b[0m\u001b[0m\n\u001b[1;32m     72\u001b[0m         ret = um.true_divide(\n",
      "\u001b[0;31mTypeError\u001b[0m: unsupported operand type(s) for +: 'NoneType' and 'NoneType'"
     ]
    }
   ],
   "source": [
    "pool_scenes = hvs_df.shape[0] + nvs_df.shape[0] + sr_df.shape[0]\n",
    "all_scenes = pd.concat([hvs_df, nvs_df, sr_df], sort=False, keys=[\"hvs\", \"nvs\", \"sr\"])\n",
    "all_scenes = all_scenes.reset_index()\n",
    "\n",
    "min_subjects = 2000\n",
    "min_answers = 10\n",
    "\n",
    "nvs_data = []\n",
    "bus_data = []\n",
    "\n",
    "for simulation in range(100):\n",
    "    experiment_df = pd.DataFrame()\n",
    "    for subject in range(min_subjects):\n",
    "        subject_sample = all_scenes.sample(n=10)\n",
    "        subject_sample[\"subject\"] = subject\n",
    "        experiment_df = experiment_df.append(subject_sample)\n",
    "    a, b = important_metrics(experiment_df)\n",
    "    nvs_data.append(a)\n",
    "    bus_data.append(b)\n",
    "\n",
    "sns.distplot(nvs_data)\n",
    "sns.distplot(bus_data)"
   ]
  },
  {
   "cell_type": "code",
   "execution_count": 73,
   "metadata": {},
   "outputs": [],
   "source": [
    "#experiment_df[\"level_0\"].value_counts().plot(\"bar\")\n",
    "def important_metrics(experiment_df):\n",
    "    a = print(experiment_df[experiment_df[\"level_0\"] == \"nvs\"][\"subject\"].nunique())\n",
    "#    print(experiment_df[experiment_df[\"level_0\"] == \"nvs\"][\"subject\"].shape)\n",
    "#    print(experiment_df[experiment_df[\"level_0\"] == \"nvs\"][\"subject\"].value_counts().mean())\n",
    "#    print(experiment_df[experiment_df[\"level_0\"] == \"nvs\"][\"subject\"].value_counts().min())\n",
    "#    print(experiment_df[experiment_df[\"level_0\"] == \"nvs\"][\"subject\"].value_counts().max())\n",
    "\n",
    "#    print(experiment_df[experiment_df[\"FS-Art\"] == \"Bus\"][\"subject\"].nunique())\n",
    "    b = print(experiment_df[experiment_df[\"FS-Art\"] == \"Bus\"][\"subject\"].shape)\n",
    "    return a, b\n"
   ]
  },
  {
   "cell_type": "code",
   "execution_count": 23,
   "metadata": {},
   "outputs": [
    {
     "data": {
      "text/plain": [
       "<matplotlib.axes._subplots.AxesSubplot at 0x1126870f0>"
      ]
     },
     "execution_count": 23,
     "metadata": {},
     "output_type": "execute_result"
    },
    {
     "data": {
      "image/png": "[encoded data removed]",
      "text/plain": [
       "<Figure size 432x288 with 1 Axes>"
      ]
     },
     "metadata": {},
     "output_type": "display_data"
    }
   ],
   "source": [
    "user_count = 5000\n",
    "answers_per_user = 100\n",
    "\n",
    "experiments = [\"Hauptverkehrsstraße\", \"Nebenstraße\", \"Seitenraum\"]\n",
    "subjective_importance = np.array([50, 25, 25])\n",
    "\n",
    "pd.Series(subjective_importance, index=experiments).plot(\"bar\")"
   ]
  },
  {
   "cell_type": "code",
   "execution_count": 24,
   "metadata": {},
   "outputs": [
    {
     "data": {
      "text/plain": [
       "<matplotlib.axes._subplots.AxesSubplot at 0x11260def0>"
      ]
     },
     "execution_count": 24,
     "metadata": {},
     "output_type": "execute_result"
    },
    {
     "data": {
      "image/png": "[encoded data removed]",
      "text/plain": [
       "<Figure size 432x288 with 1 Axes>"
      ]
     },
     "metadata": {},
     "output_type": "display_data"
    }
   ],
   "source": [
    "amount_parameters = np.array([12,4,9])\n",
    "\n",
    "pd.Series(amount_parameters, index=experiments).plot(\"bar\")"
   ]
  },
  {
   "cell_type": "code",
   "execution_count": 25,
   "metadata": {},
   "outputs": [
    {
     "data": {
      "text/plain": [
       "<matplotlib.axes._subplots.AxesSubplot at 0x11241c908>"
      ]
     },
     "execution_count": 25,
     "metadata": {},
     "output_type": "execute_result"
    },
    {
     "data": {
      "image/png": "[encoded data removed]",
      "text/plain": [
       "<Figure size 432x288 with 1 Axes>"
      ]
     },
     "metadata": {},
     "output_type": "display_data"
    }
   ],
   "source": [
    "count_scenes = np.array([2372, 75, 750])\n",
    "pd.Series(count_scenes, index=experiments).plot(\"bar\")"
   ]
  },
  {
   "cell_type": "code",
   "execution_count": 12,
   "metadata": {},
   "outputs": [],
   "source": [
    "import numpy as np\n",
    "\n",
    "def get_prob(x):\n",
    "    x=np.array(x)\n",
    "    sum1 = np.sum(x)\n",
    "    prob = x/sum1\n",
    "    return prob\n",
    "\n",
    "subjective_importance = get_prob(subjective_importance)\n",
    "amount_parameters = get_prob(amount_parameters)\n",
    "count_scenes = get_prob(count_scenes)"
   ]
  },
  {
   "cell_type": "code",
   "execution_count": 26,
   "metadata": {},
   "outputs": [
    {
     "data": {
      "text/plain": [
       "<matplotlib.axes._subplots.AxesSubplot at 0x1127b73c8>"
      ]
     },
     "execution_count": 26,
     "metadata": {},
     "output_type": "execute_result"
    },
    {
     "data": {
      "image/png": "[encoded data removed]",
      "text/plain": [
       "<Figure size 432x288 with 1 Axes>"
      ]
     },
     "metadata": {},
     "output_type": "display_data"
    }
   ],
   "source": [
    "pd.Series(subjective_importance*amount_parameters, index=experiments).plot(\"bar\")"
   ]
  },
  {
   "cell_type": "code",
   "execution_count": 28,
   "metadata": {},
   "outputs": [
    {
     "data": {
      "text/plain": [
       "<matplotlib.axes._subplots.AxesSubplot at 0x1134a37b8>"
      ]
     },
     "execution_count": 28,
     "metadata": {},
     "output_type": "execute_result"
    },
    {
     "data": {
      "image/png": "[encoded data removed]",
      "text/plain": [
       "<Figure size 432x288 with 1 Axes>"
      ]
     },
     "metadata": {},
     "output_type": "display_data"
    }
   ],
   "source": [
    "pd.Series(subjective_importance*amount_parameters*count_scenes, index=experiments).plot(\"bar\")"
   ]
  },
  {
   "cell_type": "code",
   "execution_count": 29,
   "metadata": {},
   "outputs": [
    {
     "data": {
      "text/plain": [
       "<matplotlib.axes._subplots.AxesSubplot at 0x1135b1b70>"
      ]
     },
     "execution_count": 29,
     "metadata": {},
     "output_type": "execute_result"
    },
    {
     "data": {
      "image/png": "[encoded data removed]",
      "text/plain": [
       "<Figure size 432x288 with 1 Axes>"
      ]
     },
     "metadata": {},
     "output_type": "display_data"
    }
   ],
   "source": [
    "sum_parameterspace = [39, 13, 26]\n",
    "pd.Series(sum_parameterspace, index=experiments).plot(\"bar\")"
   ]
  },
  {
   "cell_type": "code",
   "execution_count": null,
   "metadata": {},
   "outputs": [],
   "source": []
  }
 ],
 "metadata": {
  "kernelspec": {
   "display_name": "Python 3",
   "language": "python",
   "name": "python3"
  },
  "language_info": {
   "codemirror_mode": {
    "name": "ipython",
    "version": 3
   },
   "file_extension": ".py",
   "mimetype": "text/x-python",
   "name": "python",
   "nbconvert_exporter": "python",
   "pygments_lexer": "ipython3",
   "version": "3.6.2"
  }
 },
 "nbformat": 4,
 "nbformat_minor": 2
}